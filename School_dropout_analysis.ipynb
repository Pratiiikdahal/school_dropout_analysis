{
 "cells": [
  {
   "cell_type": "code",
   "execution_count": 1,
   "id": "4397504d",
   "metadata": {},
   "outputs": [],
   "source": [
    "import pandas as pd\n",
    "import numpy as np\n",
    "import seaborn as sns\n",
    "import matplotlib.pyplot as plt\n",
    "import warnings\n",
    "warnings.filterwarnings('ignore')"
   ]
  },
  {
   "cell_type": "code",
   "execution_count": 2,
   "id": "5eb656cd",
   "metadata": {},
   "outputs": [],
   "source": [
    "dataset=pd.read_csv('Secondary_school_dropout_dataset.csv')"
   ]
  },
  {
   "cell_type": "code",
   "execution_count": 3,
   "id": "dfabb305",
   "metadata": {},
   "outputs": [],
   "source": [
    "df=dataset.copy()"
   ]
  },
  {
   "cell_type": "code",
   "execution_count": 4,
   "id": "c723482f",
   "metadata": {},
   "outputs": [
    {
     "data": {
      "text/html": [
       "<div>\n",
       "<style scoped>\n",
       "    .dataframe tbody tr th:only-of-type {\n",
       "        vertical-align: middle;\n",
       "    }\n",
       "\n",
       "    .dataframe tbody tr th {\n",
       "        vertical-align: top;\n",
       "    }\n",
       "\n",
       "    .dataframe thead th {\n",
       "        text-align: right;\n",
       "    }\n",
       "</style>\n",
       "<table border=\"1\" class=\"dataframe\">\n",
       "  <thead>\n",
       "    <tr style=\"text-align: right;\">\n",
       "      <th></th>\n",
       "      <th>location_name</th>\n",
       "      <th>home_language</th>\n",
       "      <th>hh_occupation</th>\n",
       "      <th>hh_edu</th>\n",
       "      <th>hh_size</th>\n",
       "      <th>school_distanceKm</th>\n",
       "      <th>age</th>\n",
       "      <th>gender</th>\n",
       "      <th>mothers_edu</th>\n",
       "      <th>grade</th>\n",
       "      <th>meansToSchool</th>\n",
       "      <th>hh_children</th>\n",
       "      <th>dropout</th>\n",
       "    </tr>\n",
       "  </thead>\n",
       "  <tbody>\n",
       "    <tr>\n",
       "      <th>0</th>\n",
       "      <td>Rural</td>\n",
       "      <td>English</td>\n",
       "      <td>Unemployed</td>\n",
       "      <td>Secondary</td>\n",
       "      <td>More than five</td>\n",
       "      <td>1-2 km</td>\n",
       "      <td>11.0</td>\n",
       "      <td>Male</td>\n",
       "      <td>Primary</td>\n",
       "      <td>Form Two</td>\n",
       "      <td>Walk</td>\n",
       "      <td>More than five</td>\n",
       "      <td>No</td>\n",
       "    </tr>\n",
       "    <tr>\n",
       "      <th>1</th>\n",
       "      <td>Urban</td>\n",
       "      <td>English</td>\n",
       "      <td>Unemployed</td>\n",
       "      <td>Primary</td>\n",
       "      <td>More than five</td>\n",
       "      <td>2-3 km</td>\n",
       "      <td>11.0</td>\n",
       "      <td>Male</td>\n",
       "      <td>Primary</td>\n",
       "      <td>Form One</td>\n",
       "      <td>Walk</td>\n",
       "      <td>More than five</td>\n",
       "      <td>Yes</td>\n",
       "    </tr>\n",
       "    <tr>\n",
       "      <th>2</th>\n",
       "      <td>Urban</td>\n",
       "      <td>Kiswahili</td>\n",
       "      <td>Self-employed</td>\n",
       "      <td>Secondary</td>\n",
       "      <td>More than five</td>\n",
       "      <td>4-5 km</td>\n",
       "      <td>11.0</td>\n",
       "      <td>Female</td>\n",
       "      <td>Secondary</td>\n",
       "      <td>Form Two</td>\n",
       "      <td>Public transport</td>\n",
       "      <td>More than five</td>\n",
       "      <td>No</td>\n",
       "    </tr>\n",
       "    <tr>\n",
       "      <th>3</th>\n",
       "      <td>Urban</td>\n",
       "      <td>Kiswahili</td>\n",
       "      <td>Unemployed</td>\n",
       "      <td>Secondary</td>\n",
       "      <td>More than five</td>\n",
       "      <td>More than 11 km</td>\n",
       "      <td>11.0</td>\n",
       "      <td>Male</td>\n",
       "      <td>Primary</td>\n",
       "      <td>Form One</td>\n",
       "      <td>Walk</td>\n",
       "      <td>Five Children</td>\n",
       "      <td>No</td>\n",
       "    </tr>\n",
       "    <tr>\n",
       "      <th>4</th>\n",
       "      <td>Urban</td>\n",
       "      <td>Kiswahili</td>\n",
       "      <td>Self-employed</td>\n",
       "      <td>Secondary</td>\n",
       "      <td>More than five</td>\n",
       "      <td>4-5 km</td>\n",
       "      <td>NaN</td>\n",
       "      <td>Female</td>\n",
       "      <td>Secondary</td>\n",
       "      <td>Form One</td>\n",
       "      <td>Public transport</td>\n",
       "      <td>More than five</td>\n",
       "      <td>No</td>\n",
       "    </tr>\n",
       "  </tbody>\n",
       "</table>\n",
       "</div>"
      ],
      "text/plain": [
       "  location_name home_language  hh_occupation     hh_edu         hh_size  \\\n",
       "0         Rural       English     Unemployed  Secondary  More than five   \n",
       "1         Urban       English     Unemployed    Primary  More than five   \n",
       "2         Urban     Kiswahili  Self-employed  Secondary  More than five   \n",
       "3         Urban     Kiswahili     Unemployed  Secondary  More than five   \n",
       "4         Urban     Kiswahili  Self-employed  Secondary  More than five   \n",
       "\n",
       "  school_distanceKm   age  gender mothers_edu     grade     meansToSchool  \\\n",
       "0            1-2 km  11.0    Male     Primary  Form Two              Walk   \n",
       "1            2-3 km  11.0    Male     Primary  Form One              Walk   \n",
       "2            4-5 km  11.0  Female   Secondary  Form Two  Public transport   \n",
       "3   More than 11 km  11.0    Male     Primary  Form One              Walk   \n",
       "4            4-5 km   NaN  Female   Secondary  Form One  Public transport   \n",
       "\n",
       "      hh_children dropout  \n",
       "0  More than five      No  \n",
       "1  More than five     Yes  \n",
       "2  More than five      No  \n",
       "3   Five Children      No  \n",
       "4  More than five      No  "
      ]
     },
     "execution_count": 4,
     "metadata": {},
     "output_type": "execute_result"
    }
   ],
   "source": [
    "df.head()"
   ]
  },
  {
   "cell_type": "code",
   "execution_count": 5,
   "id": "8e24c6a6",
   "metadata": {},
   "outputs": [
    {
     "data": {
      "text/plain": [
       "array(['Rural', 'Urban'], dtype=object)"
      ]
     },
     "execution_count": 5,
     "metadata": {},
     "output_type": "execute_result"
    }
   ],
   "source": [
    "df['location_name'].unique()"
   ]
  },
  {
   "cell_type": "code",
   "execution_count": 6,
   "id": "5ef17649",
   "metadata": {},
   "outputs": [
    {
     "data": {
      "text/plain": [
       "array(['English', 'Kiswahili', 'Native language', nan], dtype=object)"
      ]
     },
     "execution_count": 6,
     "metadata": {},
     "output_type": "execute_result"
    }
   ],
   "source": [
    "df['home_language'].unique()"
   ]
  },
  {
   "cell_type": "code",
   "execution_count": 7,
   "id": "b62139b4",
   "metadata": {},
   "outputs": [
    {
     "name": "stdout",
     "output_type": "stream",
     "text": [
      "['Unemployed' 'Self-employed' 'Agriculture' 'Public sector' 'Housewife'\n",
      " 'Private sector' nan]\n",
      "['Secondary' 'Primary' 'Postsecondary' nan]\n",
      "['More than five' 'Five Children' 'Four Children' 'Three Children'\n",
      " 'Two Children']\n",
      "['1-2 km' '2-3 km' '4-5 km' 'More than 11 km' '0-0.5 km' '6-7 km'\n",
      " '0.5-1 km' '7-10 km']\n",
      "[11. nan 12. 13. 14. 15. 16.]\n",
      "['Male' 'Female']\n",
      "['Primary' 'Secondary' nan 'Postsecondary']\n",
      "['Form Two' 'Form One' 'Form Three' 'Form Four']\n",
      "['Walk' 'Public transport' 'Bicycle/motorbike' 'Private car']\n",
      "['More than five' 'Five Children' 'Four Children' 'Three Children'\n",
      " 'Two Children']\n",
      "['No' 'Yes']\n"
     ]
    }
   ],
   "source": [
    "print(df['hh_occupation'].unique())\n",
    "print(df['hh_edu'].unique())\n",
    "print(df['hh_size'].unique())\n",
    "print(df['school_distanceKm'].unique())\n",
    "print(df['age'].unique())\n",
    "print(df['gender'].unique())\n",
    "print(df['mothers_edu'].unique())\n",
    "print(df['grade'].unique())\n",
    "print(df['meansToSchool'].unique())\n",
    "print(df['hh_children'].unique())\n",
    "print(df['dropout'].unique())"
   ]
  },
  {
   "cell_type": "code",
   "execution_count": 8,
   "id": "a3a69c5f",
   "metadata": {},
   "outputs": [
    {
     "data": {
      "text/plain": [
       "Index(['location_name', 'home_language', 'hh_occupation', 'hh_edu', 'hh_size',\n",
       "       'school_distanceKm', 'age', 'gender', 'mothers_edu', 'grade',\n",
       "       'meansToSchool', 'hh_children', 'dropout'],\n",
       "      dtype='object')"
      ]
     },
     "execution_count": 8,
     "metadata": {},
     "output_type": "execute_result"
    }
   ],
   "source": [
    "df.columns"
   ]
  },
  {
   "cell_type": "markdown",
   "id": "0c67881b",
   "metadata": {},
   "source": [
    "# Categorical Attributes of the data"
   ]
  },
  {
   "cell_type": "raw",
   "id": "048c71ea",
   "metadata": {},
   "source": [
    "The following are the categorical attributes of the data:\n",
    "\n",
    "1. location_name:'Rural', 'Urban'\n",
    "2. home_language: 'English', 'Kiswahili', 'Native language'\n",
    "3. hh_occupation: 'Unemployed','Self-employed', 'Agriculture', 'Public sector', 'Housewife', 'Private sector'\n",
    "4. hh_edu: 'Secondary','Primary','Postsecondary'\n",
    "5. hh_size:'More than five' ,'Five Children' ,'Four Children' ,'Three Children' ,'Two Children'\n",
    "6. school_distanceKm: '1-2 km','2-3 km','4-5 km','More than 11 km','0-0.5 km','6-7 km','0.5-1 km','7-10 km'\n",
    "7. age: 11., 12., 13., 14., 15., 16.\n",
    "8. gender: 'Male','Female'\n",
    "9. mothers_edu: 'Primary','Secondary','Postsecondary'\n",
    "10. grade: 'Form Two','Form One','Form Three','Form Four'\n",
    "11. meansToSchool:'Walk','Public transport','Bicycle/motorbike','Private car'\n",
    "12. hh_children: 'More than five','Five Children','Four Children','Three Children','Two Children'\n",
    "13. dropout: 'No','Yes'\n"
   ]
  },
  {
   "cell_type": "raw",
   "id": "7ca532da",
   "metadata": {},
   "source": [
    "At the first glance we can observe that there are null(nan) values present in the data in the following columns:\n",
    "1.home_language\n",
    "2.hh_occupation\n",
    "3.hh_edu\n",
    "4.age\n",
    "5.mothers_edu\n"
   ]
  },
  {
   "cell_type": "markdown",
   "id": "ce8b5f6b",
   "metadata": {},
   "source": []
  },
  {
   "cell_type": "code",
   "execution_count": 9,
   "id": "5fadb2a0",
   "metadata": {},
   "outputs": [
    {
     "data": {
      "text/html": [
       "<div>\n",
       "<style scoped>\n",
       "    .dataframe tbody tr th:only-of-type {\n",
       "        vertical-align: middle;\n",
       "    }\n",
       "\n",
       "    .dataframe tbody tr th {\n",
       "        vertical-align: top;\n",
       "    }\n",
       "\n",
       "    .dataframe thead th {\n",
       "        text-align: right;\n",
       "    }\n",
       "</style>\n",
       "<table border=\"1\" class=\"dataframe\">\n",
       "  <thead>\n",
       "    <tr style=\"text-align: right;\">\n",
       "      <th></th>\n",
       "      <th>age</th>\n",
       "    </tr>\n",
       "  </thead>\n",
       "  <tbody>\n",
       "    <tr>\n",
       "      <th>count</th>\n",
       "      <td>62649.000000</td>\n",
       "    </tr>\n",
       "    <tr>\n",
       "      <th>mean</th>\n",
       "      <td>15.511708</td>\n",
       "    </tr>\n",
       "    <tr>\n",
       "      <th>std</th>\n",
       "      <td>0.721693</td>\n",
       "    </tr>\n",
       "    <tr>\n",
       "      <th>min</th>\n",
       "      <td>11.000000</td>\n",
       "    </tr>\n",
       "    <tr>\n",
       "      <th>25%</th>\n",
       "      <td>15.000000</td>\n",
       "    </tr>\n",
       "    <tr>\n",
       "      <th>50%</th>\n",
       "      <td>16.000000</td>\n",
       "    </tr>\n",
       "    <tr>\n",
       "      <th>75%</th>\n",
       "      <td>16.000000</td>\n",
       "    </tr>\n",
       "    <tr>\n",
       "      <th>max</th>\n",
       "      <td>16.000000</td>\n",
       "    </tr>\n",
       "  </tbody>\n",
       "</table>\n",
       "</div>"
      ],
      "text/plain": [
       "                age\n",
       "count  62649.000000\n",
       "mean      15.511708\n",
       "std        0.721693\n",
       "min       11.000000\n",
       "25%       15.000000\n",
       "50%       16.000000\n",
       "75%       16.000000\n",
       "max       16.000000"
      ]
     },
     "execution_count": 9,
     "metadata": {},
     "output_type": "execute_result"
    }
   ],
   "source": [
    "df.describe()"
   ]
  },
  {
   "cell_type": "code",
   "execution_count": 10,
   "id": "0c42c038",
   "metadata": {},
   "outputs": [
    {
     "data": {
      "text/html": [
       "<div>\n",
       "<style scoped>\n",
       "    .dataframe tbody tr th:only-of-type {\n",
       "        vertical-align: middle;\n",
       "    }\n",
       "\n",
       "    .dataframe tbody tr th {\n",
       "        vertical-align: top;\n",
       "    }\n",
       "\n",
       "    .dataframe thead th {\n",
       "        text-align: right;\n",
       "    }\n",
       "</style>\n",
       "<table border=\"1\" class=\"dataframe\">\n",
       "  <thead>\n",
       "    <tr style=\"text-align: right;\">\n",
       "      <th></th>\n",
       "      <th>location_name</th>\n",
       "      <th>home_language</th>\n",
       "      <th>hh_occupation</th>\n",
       "      <th>hh_edu</th>\n",
       "      <th>hh_size</th>\n",
       "      <th>school_distanceKm</th>\n",
       "      <th>gender</th>\n",
       "      <th>mothers_edu</th>\n",
       "      <th>grade</th>\n",
       "      <th>meansToSchool</th>\n",
       "      <th>hh_children</th>\n",
       "      <th>dropout</th>\n",
       "    </tr>\n",
       "  </thead>\n",
       "  <tbody>\n",
       "    <tr>\n",
       "      <th>count</th>\n",
       "      <td>62739</td>\n",
       "      <td>62736</td>\n",
       "      <td>62735</td>\n",
       "      <td>3161</td>\n",
       "      <td>62739</td>\n",
       "      <td>62739</td>\n",
       "      <td>62739</td>\n",
       "      <td>30730</td>\n",
       "      <td>62739</td>\n",
       "      <td>62739</td>\n",
       "      <td>62739</td>\n",
       "      <td>62739</td>\n",
       "    </tr>\n",
       "    <tr>\n",
       "      <th>unique</th>\n",
       "      <td>2</td>\n",
       "      <td>3</td>\n",
       "      <td>6</td>\n",
       "      <td>3</td>\n",
       "      <td>5</td>\n",
       "      <td>8</td>\n",
       "      <td>2</td>\n",
       "      <td>3</td>\n",
       "      <td>4</td>\n",
       "      <td>4</td>\n",
       "      <td>5</td>\n",
       "      <td>2</td>\n",
       "    </tr>\n",
       "    <tr>\n",
       "      <th>top</th>\n",
       "      <td>Rural</td>\n",
       "      <td>English</td>\n",
       "      <td>Unemployed</td>\n",
       "      <td>Primary</td>\n",
       "      <td>More than five</td>\n",
       "      <td>2-3 km</td>\n",
       "      <td>Female</td>\n",
       "      <td>Primary</td>\n",
       "      <td>Form One</td>\n",
       "      <td>Walk</td>\n",
       "      <td>Three Children</td>\n",
       "      <td>No</td>\n",
       "    </tr>\n",
       "    <tr>\n",
       "      <th>freq</th>\n",
       "      <td>62710</td>\n",
       "      <td>58486</td>\n",
       "      <td>55122</td>\n",
       "      <td>2851</td>\n",
       "      <td>46969</td>\n",
       "      <td>62057</td>\n",
       "      <td>35055</td>\n",
       "      <td>29156</td>\n",
       "      <td>40119</td>\n",
       "      <td>56763</td>\n",
       "      <td>15315</td>\n",
       "      <td>57032</td>\n",
       "    </tr>\n",
       "  </tbody>\n",
       "</table>\n",
       "</div>"
      ],
      "text/plain": [
       "       location_name home_language hh_occupation   hh_edu         hh_size  \\\n",
       "count          62739         62736         62735     3161           62739   \n",
       "unique             2             3             6        3               5   \n",
       "top            Rural       English    Unemployed  Primary  More than five   \n",
       "freq           62710         58486         55122     2851           46969   \n",
       "\n",
       "       school_distanceKm  gender mothers_edu     grade meansToSchool  \\\n",
       "count              62739   62739       30730     62739         62739   \n",
       "unique                 8       2           3         4             4   \n",
       "top               2-3 km  Female     Primary  Form One          Walk   \n",
       "freq               62057   35055       29156     40119         56763   \n",
       "\n",
       "           hh_children dropout  \n",
       "count            62739   62739  \n",
       "unique               5       2  \n",
       "top     Three Children      No  \n",
       "freq             15315   57032  "
      ]
     },
     "execution_count": 10,
     "metadata": {},
     "output_type": "execute_result"
    }
   ],
   "source": [
    "df.describe(include='O')"
   ]
  },
  {
   "cell_type": "code",
   "execution_count": null,
   "id": "79d6a22d",
   "metadata": {},
   "outputs": [],
   "source": []
  },
  {
   "cell_type": "raw",
   "id": "840e9c44",
   "metadata": {},
   "source": [
    "From the above observation, we can say that for the age column there are 62649 observations while for the hh_edu column there are 3161 observations , the mothers_edu column we have 30730 observations ,the home_language column has 62736 observations while the rest of the columns such as location_name, hh_occupation, hh_size, school_distanceKm,gender,grade,meansToSchool,hh_children,dropout has 62739 observations each."
   ]
  },
  {
   "cell_type": "markdown",
   "id": "6252e5ee",
   "metadata": {},
   "source": [
    "# Data cleaning"
   ]
  },
  {
   "cell_type": "code",
   "execution_count": 11,
   "id": "8ad15a17",
   "metadata": {},
   "outputs": [
    {
     "data": {
      "text/plain": [
       "location_name            0\n",
       "home_language            3\n",
       "hh_occupation            4\n",
       "hh_edu               59578\n",
       "hh_size                  0\n",
       "school_distanceKm        0\n",
       "age                     90\n",
       "gender                   0\n",
       "mothers_edu          32009\n",
       "grade                    0\n",
       "meansToSchool            0\n",
       "hh_children              0\n",
       "dropout                  0\n",
       "dtype: int64"
      ]
     },
     "execution_count": 11,
     "metadata": {},
     "output_type": "execute_result"
    }
   ],
   "source": [
    "df.isnull().sum()"
   ]
  },
  {
   "cell_type": "code",
   "execution_count": 12,
   "id": "09090a6d",
   "metadata": {},
   "outputs": [],
   "source": [
    "df.drop('hh_edu',axis='columns',inplace=True)"
   ]
  },
  {
   "cell_type": "code",
   "execution_count": 13,
   "id": "4f498158",
   "metadata": {},
   "outputs": [],
   "source": [
    "df.drop('mothers_edu',axis='columns',inplace=True)"
   ]
  },
  {
   "cell_type": "code",
   "execution_count": 14,
   "id": "288d790e",
   "metadata": {},
   "outputs": [
    {
     "data": {
      "text/plain": [
       "Index(['location_name', 'home_language', 'hh_occupation', 'hh_size',\n",
       "       'school_distanceKm', 'age', 'gender', 'grade', 'meansToSchool',\n",
       "       'hh_children', 'dropout'],\n",
       "      dtype='object')"
      ]
     },
     "execution_count": 14,
     "metadata": {},
     "output_type": "execute_result"
    }
   ],
   "source": [
    "df.columns"
   ]
  },
  {
   "cell_type": "code",
   "execution_count": 15,
   "id": "610d3754",
   "metadata": {},
   "outputs": [
    {
     "data": {
      "text/plain": [
       "location_name         0\n",
       "home_language         3\n",
       "hh_occupation         4\n",
       "hh_size               0\n",
       "school_distanceKm     0\n",
       "age                  90\n",
       "gender                0\n",
       "grade                 0\n",
       "meansToSchool         0\n",
       "hh_children           0\n",
       "dropout               0\n",
       "dtype: int64"
      ]
     },
     "execution_count": 15,
     "metadata": {},
     "output_type": "execute_result"
    }
   ],
   "source": [
    "df.isnull().sum()"
   ]
  },
  {
   "cell_type": "raw",
   "id": "fac970d6",
   "metadata": {},
   "source": []
  },
  {
   "cell_type": "code",
   "execution_count": 16,
   "id": "eddce575",
   "metadata": {},
   "outputs": [],
   "source": [
    "df['home_language']=df['home_language'].astype(str)"
   ]
  },
  {
   "cell_type": "code",
   "execution_count": 17,
   "id": "52dbd5fd",
   "metadata": {},
   "outputs": [
    {
     "data": {
      "text/plain": [
       "dtype('O')"
      ]
     },
     "execution_count": 17,
     "metadata": {},
     "output_type": "execute_result"
    }
   ],
   "source": [
    "df['home_language'].dtype"
   ]
  },
  {
   "cell_type": "code",
   "execution_count": 18,
   "id": "40d395f0",
   "metadata": {},
   "outputs": [],
   "source": [
    "attbr,counts=np.unique(df['home_language'],return_counts=True)\n",
    "most_freq_attbr=attbr[np.argmax(counts,axis=0)]\n",
    "df['home_language'][df['home_language']=='nan']=most_freq_attbr"
   ]
  },
  {
   "cell_type": "code",
   "execution_count": 19,
   "id": "14f5bab6",
   "metadata": {},
   "outputs": [
    {
     "data": {
      "text/plain": [
       "array(['English', 'Kiswahili', 'Native language'], dtype=object)"
      ]
     },
     "execution_count": 19,
     "metadata": {},
     "output_type": "execute_result"
    }
   ],
   "source": [
    "df['home_language'].unique()"
   ]
  },
  {
   "cell_type": "code",
   "execution_count": 20,
   "id": "63f27805",
   "metadata": {},
   "outputs": [],
   "source": [
    "df['hh_occupation']=df['hh_occupation'].astype(str)"
   ]
  },
  {
   "cell_type": "code",
   "execution_count": 21,
   "id": "236a37f9",
   "metadata": {},
   "outputs": [],
   "source": [
    "attbr,counts=np.unique(df['hh_occupation'],return_counts=True)\n",
    "most_freq_attbr=attbr[np.argmax(counts,axis=0)]\n",
    "df['hh_occupation'][df['hh_occupation']=='nan']=most_freq_attbr"
   ]
  },
  {
   "cell_type": "code",
   "execution_count": 22,
   "id": "bc5112c4",
   "metadata": {},
   "outputs": [
    {
     "data": {
      "text/plain": [
       "array(['Unemployed', 'Self-employed', 'Agriculture', 'Public sector',\n",
       "       'Housewife', 'Private sector'], dtype=object)"
      ]
     },
     "execution_count": 22,
     "metadata": {},
     "output_type": "execute_result"
    }
   ],
   "source": [
    "df['hh_occupation'].unique()"
   ]
  },
  {
   "cell_type": "code",
   "execution_count": 23,
   "id": "60737120",
   "metadata": {},
   "outputs": [
    {
     "data": {
      "text/plain": [
       "15.511708087918402"
      ]
     },
     "execution_count": 23,
     "metadata": {},
     "output_type": "execute_result"
    }
   ],
   "source": [
    "age_value=np.mean(df['age'])\n",
    "age_value"
   ]
  },
  {
   "cell_type": "code",
   "execution_count": 24,
   "id": "bae2176e",
   "metadata": {},
   "outputs": [],
   "source": [
    "df.age.fillna(age_value,inplace=True)"
   ]
  },
  {
   "cell_type": "code",
   "execution_count": 25,
   "id": "4f824c24",
   "metadata": {},
   "outputs": [
    {
     "data": {
      "text/plain": [
       "array([11.        , 15.51170809, 12.        , 13.        , 14.        ,\n",
       "       15.        , 16.        ])"
      ]
     },
     "execution_count": 25,
     "metadata": {},
     "output_type": "execute_result"
    }
   ],
   "source": [
    "df.age.unique()"
   ]
  },
  {
   "cell_type": "code",
   "execution_count": 26,
   "id": "aa7c61dd",
   "metadata": {},
   "outputs": [
    {
     "data": {
      "text/plain": [
       "location_name        0\n",
       "home_language        0\n",
       "hh_occupation        0\n",
       "hh_size              0\n",
       "school_distanceKm    0\n",
       "age                  0\n",
       "gender               0\n",
       "grade                0\n",
       "meansToSchool        0\n",
       "hh_children          0\n",
       "dropout              0\n",
       "dtype: int64"
      ]
     },
     "execution_count": 26,
     "metadata": {},
     "output_type": "execute_result"
    }
   ],
   "source": [
    "df.isnull().sum()"
   ]
  },
  {
   "cell_type": "raw",
   "id": "f6bfa525",
   "metadata": {},
   "source": [
    "Since there is no missing values present in the data the data is ready for further data analysis"
   ]
  },
  {
   "cell_type": "markdown",
   "id": "f9cf46d9",
   "metadata": {},
   "source": [
    "# Univariate Analysis"
   ]
  },
  {
   "cell_type": "markdown",
   "id": "fe0ddcd9",
   "metadata": {},
   "source": [
    "# Location Name"
   ]
  },
  {
   "cell_type": "code",
   "execution_count": 27,
   "id": "a346cc02",
   "metadata": {},
   "outputs": [
    {
     "data": {
      "image/png": "[encoded data removed]",
      "text/plain": [
       "<Figure size 400x400 with 1 Axes>"
      ]
     },
     "metadata": {},
     "output_type": "display_data"
    }
   ],
   "source": [
    "plt.figure(figsize=(4,4))\n",
    "sns.countplot(x='location_name',data=df)\n",
    "plt.show()"
   ]
  },
  {
   "cell_type": "raw",
   "id": "9d998739",
   "metadata": {},
   "source": [
    "Description about the dataset:\n",
    "1. there are two different categories in this location_name column which are Rural and Urban.\n",
    "2. this data is heavily imbalanced towards the Rural attribute \n",
    "3. the urban arrtibute has minimum number of students."
   ]
  },
  {
   "cell_type": "code",
   "execution_count": 28,
   "id": "0d551da2",
   "metadata": {},
   "outputs": [
    {
     "data": {
      "text/plain": [
       "Index(['location_name', 'home_language', 'hh_occupation', 'hh_size',\n",
       "       'school_distanceKm', 'age', 'gender', 'grade', 'meansToSchool',\n",
       "       'hh_children', 'dropout'],\n",
       "      dtype='object')"
      ]
     },
     "execution_count": 28,
     "metadata": {},
     "output_type": "execute_result"
    }
   ],
   "source": [
    "df.columns"
   ]
  },
  {
   "cell_type": "markdown",
   "id": "859dbfff",
   "metadata": {},
   "source": [
    "# Home language"
   ]
  },
  {
   "cell_type": "code",
   "execution_count": 29,
   "id": "b554ddc8",
   "metadata": {},
   "outputs": [
    {
     "data": {
      "image/png": "[encoded data removed]",
      "text/plain": [
       "<Figure size 400x400 with 1 Axes>"
      ]
     },
     "metadata": {},
     "output_type": "display_data"
    }
   ],
   "source": [
    "plt.figure(figsize=(4,4))\n",
    "sns.countplot(x='home_language',data=df)\n",
    "plt.show()"
   ]
  },
  {
   "cell_type": "raw",
   "id": "be385210",
   "metadata": {},
   "source": [
    "Description about the dataset:\n",
    "\n",
    "1. The dataset is heavily imbalanced towards English as home language\n",
    "2. The number of kiswahili language as home language is very less compared to English as a home language.\n",
    "3. The number of students that speak home_language at home is the lowest"
   ]
  },
  {
   "cell_type": "markdown",
   "id": "56946ef7",
   "metadata": {},
   "source": [
    "# Occupation"
   ]
  },
  {
   "cell_type": "code",
   "execution_count": 30,
   "id": "ff88a3c0",
   "metadata": {},
   "outputs": [
    {
     "data": {
      "image/png": "[encoded data removed]",
      "text/plain": [
       "<Figure size 1000x1000 with 1 Axes>"
      ]
     },
     "metadata": {},
     "output_type": "display_data"
    }
   ],
   "source": [
    "plt.figure(figsize=(10,10))\n",
    "sns.countplot(x='hh_occupation',data=df)\n",
    "plt.show()"
   ]
  },
  {
   "cell_type": "raw",
   "id": "d2545f09",
   "metadata": {},
   "source": [
    "Description about the dataset:\n",
    "1. this dataset is highly imbalanced towards unemployed as the hh_occupation.\n",
    "2. the people working in the public sector as hh_occupation as less compared to others.\n",
    "3. there are 6 unique categories in this dataset for the hh_occupation column"
   ]
  },
  {
   "cell_type": "markdown",
   "id": "a6124a8d",
   "metadata": {},
   "source": [
    "# hh_size"
   ]
  },
  {
   "cell_type": "code",
   "execution_count": 31,
   "id": "6cbe913a",
   "metadata": {},
   "outputs": [
    {
     "data": {
      "image/png": "[encoded data removed]",
      "text/plain": [
       "<Figure size 1000x1000 with 1 Axes>"
      ]
     },
     "metadata": {},
     "output_type": "display_data"
    }
   ],
   "source": [
    "plt.figure(figsize=(10,10))\n",
    "sns.countplot(x='hh_size',data=df)\n",
    "plt.show()"
   ]
  },
  {
   "cell_type": "raw",
   "id": "f418769d",
   "metadata": {},
   "source": [
    "Description about the dataset:\n",
    "\n",
    "1. the data is more biased towards More than five attribute.\n",
    "2. the households having two children are least in number \n",
    "3. there are 5 unique categories in this dataset."
   ]
  },
  {
   "cell_type": "markdown",
   "id": "02ad6dbf",
   "metadata": {},
   "source": [
    "# SchoolDistancekm"
   ]
  },
  {
   "cell_type": "code",
   "execution_count": 32,
   "id": "be264055",
   "metadata": {},
   "outputs": [
    {
     "data": {
      "image/png": "[encoded data removed]",
      "text/plain": [
       "<Figure size 1000x1000 with 1 Axes>"
      ]
     },
     "metadata": {},
     "output_type": "display_data"
    }
   ],
   "source": [
    "plt.figure(figsize=(10,10))\n",
    "sns.countplot(x='school_distanceKm',data=df)\n",
    "plt.show()"
   ]
  },
  {
   "cell_type": "raw",
   "id": "e28684c8",
   "metadata": {},
   "source": [
    "Description of the dataset:\n",
    "\n",
    "1. The above dataset is highly biased towards the 2-3km range.\n",
    "2. There are 8 unique categories in this dataset.\n",
    "3. Most student are living within the 2-3 km range from the institution."
   ]
  },
  {
   "cell_type": "markdown",
   "id": "b81523d6",
   "metadata": {},
   "source": [
    "# Age"
   ]
  },
  {
   "cell_type": "code",
   "execution_count": 33,
   "id": "2bf297ef",
   "metadata": {},
   "outputs": [
    {
     "data": {
      "image/png": "[encoded data removed]",
      "text/plain": [
       "<Figure size 400x400 with 1 Axes>"
      ]
     },
     "metadata": {},
     "output_type": "display_data"
    }
   ],
   "source": [
    "df.age.hist(figsize=(4,4))\n",
    "plt.show()"
   ]
  },
  {
   "cell_type": "code",
   "execution_count": 34,
   "id": "6c2e4598",
   "metadata": {},
   "outputs": [
    {
     "data": {
      "image/png": "[encoded data removed]",
      "text/plain": [
       "<Figure size 400x400 with 1 Axes>"
      ]
     },
     "metadata": {},
     "output_type": "display_data"
    }
   ],
   "source": [
    "plt.figure(figsize=(4,4))\n",
    "sns.boxplot(x='age',data=df)\n",
    "plt.show()"
   ]
  },
  {
   "cell_type": "code",
   "execution_count": 35,
   "id": "831e1827",
   "metadata": {},
   "outputs": [
    {
     "data": {
      "image/png": "[encoded data removed]",
      "text/plain": [
       "<Figure size 600x600 with 1 Axes>"
      ]
     },
     "metadata": {},
     "output_type": "display_data"
    },
    {
     "name": "stdout",
     "output_type": "stream",
     "text": [
      "(62739, 11)\n"
     ]
    }
   ],
   "source": [
    "plt.figure(figsize=(6,6))\n",
    "sns.distplot(df['age'])\n",
    "plt.show()\n",
    "print(df.shape)"
   ]
  },
  {
   "cell_type": "code",
   "execution_count": 36,
   "id": "2515d0cd",
   "metadata": {},
   "outputs": [
    {
     "data": {
      "text/plain": [
       "(61731, 11)"
      ]
     },
     "execution_count": 36,
     "metadata": {},
     "output_type": "execute_result"
    }
   ],
   "source": [
    "q3=df.age.quantile(0.75)\n",
    "q1=df.age.quantile(0.25)\n",
    "\n",
    "iqr=q3-q1\n",
    "\n",
    "upperthreshold=q3+1.5*iqr\n",
    "lowerthreshold=q1-1.5*iqr\n",
    "\n",
    "df=df[(df.age<upperthreshold) & (df.age>lowerthreshold)]\n",
    "df.shape\n"
   ]
  },
  {
   "cell_type": "raw",
   "id": "4710eac2",
   "metadata": {},
   "source": [
    "The description of the dataset is given below:\n",
    "\n",
    "1.we can observe that the data is imbalanced as the total no of 16 years old student are more compared to the students of other age.\n",
    "2.There are 7 unique attributes in this column"
   ]
  },
  {
   "cell_type": "markdown",
   "id": "692b0823",
   "metadata": {},
   "source": [
    "# Gender"
   ]
  },
  {
   "cell_type": "code",
   "execution_count": 37,
   "id": "4efb54d5",
   "metadata": {},
   "outputs": [
    {
     "data": {
      "image/png": "[encoded data removed]",
      "text/plain": [
       "<Figure size 600x600 with 1 Axes>"
      ]
     },
     "metadata": {},
     "output_type": "display_data"
    }
   ],
   "source": [
    "plt.figure(figsize=(6,6))\n",
    "sns.countplot(x='gender',data=df)\n",
    "plt.show()"
   ]
  },
  {
   "cell_type": "code",
   "execution_count": 38,
   "id": "5e41de73",
   "metadata": {},
   "outputs": [
    {
     "data": {
      "text/plain": [
       "gender\n",
       "Female    34532\n",
       "Male      27199\n",
       "Name: count, dtype: int64"
      ]
     },
     "execution_count": 38,
     "metadata": {},
     "output_type": "execute_result"
    }
   ],
   "source": [
    "df['gender'].value_counts()"
   ]
  },
  {
   "cell_type": "raw",
   "id": "2c9fdfe5",
   "metadata": {},
   "source": [
    "Description of the Dataset:\n",
    "1. There are two Unique categories in the dataset.\n",
    "2. The number of Female dropouts are slightly higher."
   ]
  },
  {
   "cell_type": "markdown",
   "id": "81cf7c81",
   "metadata": {},
   "source": [
    "# Grade"
   ]
  },
  {
   "cell_type": "code",
   "execution_count": 39,
   "id": "47448339",
   "metadata": {},
   "outputs": [
    {
     "data": {
      "image/png": "[encoded data removed]",
      "text/plain": [
       "<Figure size 1000x1000 with 1 Axes>"
      ]
     },
     "metadata": {},
     "output_type": "display_data"
    }
   ],
   "source": [
    "plt.figure(figsize=(10,10))\n",
    "sns.countplot(x='grade',data=df)\n",
    "plt.show()"
   ]
  },
  {
   "cell_type": "raw",
   "id": "2de1721b",
   "metadata": {},
   "source": [
    "Description of the dataset:\n",
    "\n",
    "\n",
    "1. There are 4 unique categories in this dataset.\n",
    "2. Most students are studying in from one"
   ]
  },
  {
   "cell_type": "markdown",
   "id": "f00c8352",
   "metadata": {},
   "source": [
    "# MeansToSchool"
   ]
  },
  {
   "cell_type": "code",
   "execution_count": 40,
   "id": "1551b549",
   "metadata": {},
   "outputs": [
    {
     "data": {
      "image/png": "[encoded data removed]",
      "text/plain": [
       "<Figure size 1000x1000 with 1 Axes>"
      ]
     },
     "metadata": {},
     "output_type": "display_data"
    }
   ],
   "source": [
    "plt.figure(figsize=(10,10))\n",
    "sns.countplot(x='meansToSchool',data=df)\n",
    "plt.show()"
   ]
  },
  {
   "cell_type": "raw",
   "id": "1fd06595",
   "metadata": {},
   "source": [
    "Description of the dataset:\n",
    "\n",
    "1. The above dataset is highly biased towards the students who walk to the institution.\n",
    "2. There are 4 unique categories in this dataset.\n",
    "3. Most student in this data walk to school."
   ]
  },
  {
   "cell_type": "markdown",
   "id": "76f0b62a",
   "metadata": {},
   "source": [
    "# hh_children"
   ]
  },
  {
   "cell_type": "code",
   "execution_count": 41,
   "id": "af5afadb",
   "metadata": {},
   "outputs": [
    {
     "data": {
      "image/png": "[encoded data removed]",
      "text/plain": [
       "<Figure size 1000x1000 with 1 Axes>"
      ]
     },
     "metadata": {},
     "output_type": "display_data"
    }
   ],
   "source": [
    "plt.figure(figsize=(10,10))\n",
    "sns.countplot(x='hh_children',data=df)\n",
    "plt.show()"
   ]
  },
  {
   "cell_type": "raw",
   "id": "0940df3f",
   "metadata": {},
   "source": [
    "Description of the dataset:\n",
    "\n",
    "1. There are 5 unique categories in this dataset.\n",
    "2. Most student come from the family with three children."
   ]
  },
  {
   "cell_type": "markdown",
   "id": "2c96324d",
   "metadata": {},
   "source": [
    "# dropout"
   ]
  },
  {
   "cell_type": "code",
   "execution_count": 42,
   "id": "9b217cf8",
   "metadata": {},
   "outputs": [
    {
     "data": {
      "image/png": "[encoded data removed]",
      "text/plain": [
       "<Figure size 1000x1000 with 1 Axes>"
      ]
     },
     "metadata": {},
     "output_type": "display_data"
    }
   ],
   "source": [
    "plt.figure(figsize=(10,10))\n",
    "sns.countplot(x='dropout',data=df)\n",
    "plt.show()"
   ]
  },
  {
   "cell_type": "raw",
   "id": "9f0596a0",
   "metadata": {},
   "source": [
    "Description of the dataset:\n",
    "\n",
    "1. There are 2 unique categories in this dataset.\n",
    "2. Most student are not dropouts."
   ]
  },
  {
   "cell_type": "markdown",
   "id": "2e88597a",
   "metadata": {},
   "source": [
    "# Bivariate Analysis"
   ]
  },
  {
   "cell_type": "code",
   "execution_count": 43,
   "id": "17a0fcd1",
   "metadata": {},
   "outputs": [
    {
     "data": {
      "text/plain": [
       "Index(['location_name', 'home_language', 'hh_occupation', 'hh_size',\n",
       "       'school_distanceKm', 'age', 'gender', 'grade', 'meansToSchool',\n",
       "       'hh_children', 'dropout'],\n",
       "      dtype='object')"
      ]
     },
     "execution_count": 43,
     "metadata": {},
     "output_type": "execute_result"
    }
   ],
   "source": [
    "df.columns"
   ]
  },
  {
   "cell_type": "code",
   "execution_count": 44,
   "id": "5a27ecd5",
   "metadata": {},
   "outputs": [
    {
     "data": {
      "text/plain": [
       "<Figure size 400x400 with 0 Axes>"
      ]
     },
     "execution_count": 44,
     "metadata": {},
     "output_type": "execute_result"
    },
    {
     "data": {
      "text/plain": [
       "<Figure size 400x400 with 0 Axes>"
      ]
     },
     "metadata": {},
     "output_type": "display_data"
    }
   ],
   "source": [
    "plt.figure(figsize=(4,4))"
   ]
  },
  {
   "cell_type": "markdown",
   "id": "6fcf0fa7",
   "metadata": {},
   "source": [
    "# Relationship between location_name and dropout"
   ]
  },
  {
   "cell_type": "code",
   "execution_count": 45,
   "id": "c96e0e15",
   "metadata": {},
   "outputs": [
    {
     "data": {
      "image/png": "[encoded data removed]",
      "text/plain": [
       "<Figure size 400x400 with 1 Axes>"
      ]
     },
     "metadata": {},
     "output_type": "display_data"
    }
   ],
   "source": [
    "plt.figure(figsize=(4,4))\n",
    "sns.countplot(x='location_name',hue='dropout',data=df)\n",
    "plt.show()"
   ]
  },
  {
   "cell_type": "code",
   "execution_count": 46,
   "id": "cb000bb9",
   "metadata": {},
   "outputs": [
    {
     "data": {
      "text/html": [
       "<div>\n",
       "<style scoped>\n",
       "    .dataframe tbody tr th:only-of-type {\n",
       "        vertical-align: middle;\n",
       "    }\n",
       "\n",
       "    .dataframe tbody tr th {\n",
       "        vertical-align: top;\n",
       "    }\n",
       "\n",
       "    .dataframe thead th {\n",
       "        text-align: right;\n",
       "    }\n",
       "</style>\n",
       "<table border=\"1\" class=\"dataframe\">\n",
       "  <thead>\n",
       "    <tr style=\"text-align: right;\">\n",
       "      <th>dropout</th>\n",
       "      <th>No</th>\n",
       "      <th>Yes</th>\n",
       "    </tr>\n",
       "    <tr>\n",
       "      <th>location_name</th>\n",
       "      <th></th>\n",
       "      <th></th>\n",
       "    </tr>\n",
       "  </thead>\n",
       "  <tbody>\n",
       "    <tr>\n",
       "      <th>Rural</th>\n",
       "      <td>1127</td>\n",
       "      <td>107</td>\n",
       "    </tr>\n",
       "    <tr>\n",
       "      <th>Urban</th>\n",
       "      <td>1</td>\n",
       "      <td>0</td>\n",
       "    </tr>\n",
       "  </tbody>\n",
       "</table>\n",
       "</div>"
      ],
      "text/plain": [
       "dropout          No  Yes\n",
       "location_name           \n",
       "Rural          1127  107\n",
       "Urban             1    0"
      ]
     },
     "execution_count": 46,
     "metadata": {},
     "output_type": "execute_result"
    }
   ],
   "source": [
    "c_t=pd.crosstab(df['location_name'].sample(frac=0.02,replace=True,random_state=1).reset_index(drop=True),df['dropout'].sample(frac=0.02,replace=True,random_state=1).reset_index(drop=True))\n",
    "c_t"
   ]
  },
  {
   "cell_type": "code",
   "execution_count": 47,
   "id": "8a33344a",
   "metadata": {},
   "outputs": [
    {
     "name": "stdout",
     "output_type": "stream",
     "text": [
      "Independent(Accept Ho)\n",
      "1.0\n",
      "1\n",
      "0.0\n",
      "[[1.12708664e+03 1.06913360e+02]\n",
      " [9.13360324e-01 8.66396761e-02]]\n"
     ]
    }
   ],
   "source": [
    "from scipy.stats import chi2_contingency\n",
    "from scipy.stats import chi2\n",
    "\n",
    "stats,p,dof,expected=chi2_contingency(c_t)\n",
    "\n",
    "if p<=0.05:\n",
    "    print(\"dependent(Reject Ho)\")\n",
    "else:\n",
    "    print('Independent(Accept Ho)')\n",
    "    \n",
    "print(p)\n",
    "print(dof)\n",
    "print(stats)\n",
    "print(expected)"
   ]
  },
  {
   "cell_type": "markdown",
   "id": "a99dcdb9",
   "metadata": {},
   "source": [
    "# Relationship between home_language and dropout"
   ]
  },
  {
   "cell_type": "code",
   "execution_count": 48,
   "id": "89b92409",
   "metadata": {},
   "outputs": [
    {
     "data": {
      "image/png": "[encoded data removed]",
      "text/plain": [
       "<Figure size 400x400 with 1 Axes>"
      ]
     },
     "metadata": {},
     "output_type": "display_data"
    }
   ],
   "source": [
    "plt.figure(figsize=(4,4))\n",
    "sns.countplot(x='home_language',hue='dropout',data=df)\n",
    "plt.show()"
   ]
  },
  {
   "cell_type": "markdown",
   "id": "18b67fc1",
   "metadata": {},
   "source": [
    "# relationship between occupation and dropout"
   ]
  },
  {
   "cell_type": "code",
   "execution_count": 49,
   "id": "9cec8675",
   "metadata": {},
   "outputs": [
    {
     "data": {
      "image/png": "[encoded data removed]",
      "text/plain": [
       "<Figure size 1000x1000 with 1 Axes>"
      ]
     },
     "metadata": {},
     "output_type": "display_data"
    }
   ],
   "source": [
    "plt.figure(figsize=(10,10))\n",
    "sns.countplot(x='hh_occupation',hue='dropout',data=df)\n",
    "plt.show()"
   ]
  },
  {
   "cell_type": "code",
   "execution_count": 50,
   "id": "45339692",
   "metadata": {},
   "outputs": [
    {
     "data": {
      "text/html": [
       "<div>\n",
       "<style scoped>\n",
       "    .dataframe tbody tr th:only-of-type {\n",
       "        vertical-align: middle;\n",
       "    }\n",
       "\n",
       "    .dataframe tbody tr th {\n",
       "        vertical-align: top;\n",
       "    }\n",
       "\n",
       "    .dataframe thead th {\n",
       "        text-align: right;\n",
       "    }\n",
       "</style>\n",
       "<table border=\"1\" class=\"dataframe\">\n",
       "  <thead>\n",
       "    <tr style=\"text-align: right;\">\n",
       "      <th>dropout</th>\n",
       "      <th>No</th>\n",
       "      <th>Yes</th>\n",
       "    </tr>\n",
       "    <tr>\n",
       "      <th>hh_occupation</th>\n",
       "      <th></th>\n",
       "      <th></th>\n",
       "    </tr>\n",
       "  </thead>\n",
       "  <tbody>\n",
       "    <tr>\n",
       "      <th>Agriculture</th>\n",
       "      <td>4</td>\n",
       "      <td>1</td>\n",
       "    </tr>\n",
       "    <tr>\n",
       "      <th>Housewife</th>\n",
       "      <td>2</td>\n",
       "      <td>0</td>\n",
       "    </tr>\n",
       "    <tr>\n",
       "      <th>Private sector</th>\n",
       "      <td>1</td>\n",
       "      <td>0</td>\n",
       "    </tr>\n",
       "    <tr>\n",
       "      <th>Public sector</th>\n",
       "      <td>1</td>\n",
       "      <td>0</td>\n",
       "    </tr>\n",
       "    <tr>\n",
       "      <th>Self-employed</th>\n",
       "      <td>18</td>\n",
       "      <td>5</td>\n",
       "    </tr>\n",
       "    <tr>\n",
       "      <th>Unemployed</th>\n",
       "      <td>202</td>\n",
       "      <td>13</td>\n",
       "    </tr>\n",
       "  </tbody>\n",
       "</table>\n",
       "</div>"
      ],
      "text/plain": [
       "dropout          No  Yes\n",
       "hh_occupation           \n",
       "Agriculture       4    1\n",
       "Housewife         2    0\n",
       "Private sector    1    0\n",
       "Public sector     1    0\n",
       "Self-employed    18    5\n",
       "Unemployed      202   13"
      ]
     },
     "execution_count": 50,
     "metadata": {},
     "output_type": "execute_result"
    }
   ],
   "source": [
    "c_t=pd.crosstab(df.hh_occupation.sample(frac=0.004,replace=True,random_state=1).reset_index(drop=True),df.dropout.sample(frac=0.004,replace=True,random_state=1).reset_index(drop=True))\n",
    "c_t"
   ]
  },
  {
   "cell_type": "code",
   "execution_count": 51,
   "id": "51d420b1",
   "metadata": {},
   "outputs": [
    {
     "name": "stdout",
     "output_type": "stream",
     "text": [
      "Independent(Accept Ho)\n",
      "0.12560194029902988\n",
      "5\n",
      "8.611459386585778\n",
      "[[4.61538462e+00 3.84615385e-01]\n",
      " [1.84615385e+00 1.53846154e-01]\n",
      " [9.23076923e-01 7.69230769e-02]\n",
      " [9.23076923e-01 7.69230769e-02]\n",
      " [2.12307692e+01 1.76923077e+00]\n",
      " [1.98461538e+02 1.65384615e+01]]\n"
     ]
    }
   ],
   "source": [
    "from scipy.stats import chi2_contingency\n",
    "from scipy.stats import chi2\n",
    "\n",
    "stats,p,dof,expected=chi2_contingency(c_t)\n",
    "\n",
    "if p<=0.05:\n",
    "    print(\"dependent(Reject Ho)\")\n",
    "else:\n",
    "    print('Independent(Accept Ho)')\n",
    "\n",
    "print(p)\n",
    "print(dof)\n",
    "print(stats)\n",
    "print(expected)"
   ]
  },
  {
   "cell_type": "markdown",
   "id": "52de0432",
   "metadata": {},
   "source": [
    "# Relationship between hh_size and dropout"
   ]
  },
  {
   "cell_type": "code",
   "execution_count": 52,
   "id": "dfe6c1b8",
   "metadata": {},
   "outputs": [
    {
     "data": {
      "image/png": "[encoded data removed]",
      "text/plain": [
       "<Figure size 800x800 with 1 Axes>"
      ]
     },
     "metadata": {},
     "output_type": "display_data"
    }
   ],
   "source": [
    "plt.figure(figsize=(8,8))\n",
    "sns.countplot(x='hh_size',hue='dropout',data=df)\n",
    "plt.show()"
   ]
  },
  {
   "cell_type": "code",
   "execution_count": 53,
   "id": "5ff4c24d",
   "metadata": {},
   "outputs": [
    {
     "data": {
      "text/html": [
       "<div>\n",
       "<style scoped>\n",
       "    .dataframe tbody tr th:only-of-type {\n",
       "        vertical-align: middle;\n",
       "    }\n",
       "\n",
       "    .dataframe tbody tr th {\n",
       "        vertical-align: top;\n",
       "    }\n",
       "\n",
       "    .dataframe thead th {\n",
       "        text-align: right;\n",
       "    }\n",
       "</style>\n",
       "<table border=\"1\" class=\"dataframe\">\n",
       "  <thead>\n",
       "    <tr style=\"text-align: right;\">\n",
       "      <th>dropout</th>\n",
       "      <th>No</th>\n",
       "      <th>Yes</th>\n",
       "    </tr>\n",
       "    <tr>\n",
       "      <th>hh_size</th>\n",
       "      <th></th>\n",
       "      <th></th>\n",
       "    </tr>\n",
       "  </thead>\n",
       "  <tbody>\n",
       "    <tr>\n",
       "      <th>Five Children</th>\n",
       "      <td>35</td>\n",
       "      <td>0</td>\n",
       "    </tr>\n",
       "    <tr>\n",
       "      <th>Four Children</th>\n",
       "      <td>13</td>\n",
       "      <td>0</td>\n",
       "    </tr>\n",
       "    <tr>\n",
       "      <th>More than five</th>\n",
       "      <td>170</td>\n",
       "      <td>19</td>\n",
       "    </tr>\n",
       "    <tr>\n",
       "      <th>Three Children</th>\n",
       "      <td>10</td>\n",
       "      <td>0</td>\n",
       "    </tr>\n",
       "  </tbody>\n",
       "</table>\n",
       "</div>"
      ],
      "text/plain": [
       "dropout          No  Yes\n",
       "hh_size                 \n",
       "Five Children    35    0\n",
       "Four Children    13    0\n",
       "More than five  170   19\n",
       "Three Children   10    0"
      ]
     },
     "execution_count": 53,
     "metadata": {},
     "output_type": "execute_result"
    }
   ],
   "source": [
    "c_t=pd.crosstab(df.hh_size.sample(frac=0.004,replace=True,random_state=1).reset_index(drop=True),df.dropout.sample(frac=0.004,random_state=1,replace=True).reset_index(drop=True))\n",
    "c_t"
   ]
  },
  {
   "cell_type": "code",
   "execution_count": 54,
   "id": "e98963b3",
   "metadata": {},
   "outputs": [
    {
     "name": "stdout",
     "output_type": "stream",
     "text": [
      "accept null hypothesis\n",
      "6.3165784832451495\n",
      "0.09718375451018227\n",
      "3\n",
      "[[ 32.30769231   2.69230769]\n",
      " [ 12.           1.        ]\n",
      " [174.46153846  14.53846154]\n",
      " [  9.23076923   0.76923077]]\n"
     ]
    }
   ],
   "source": [
    "from scipy.stats import chi2\n",
    "from scipy.stats import chi2_contingency\n",
    "\n",
    "stats,p,dof,expected=chi2_contingency(c_t)\n",
    "\n",
    "if p<=0.05:\n",
    "    print('dependent:reject hypothesis')\n",
    "else:\n",
    "    print('accept null hypothesis')\n",
    "    \n",
    "print(stats)\n",
    "print(p)\n",
    "print(dof)\n",
    "print(expected)"
   ]
  },
  {
   "cell_type": "markdown",
   "id": "d675f849",
   "metadata": {},
   "source": [
    "# Relationship between school_distancekm and dropout"
   ]
  },
  {
   "cell_type": "code",
   "execution_count": 55,
   "id": "99c588a3",
   "metadata": {},
   "outputs": [
    {
     "data": {
      "image/png": "[encoded data removed]",
      "text/plain": [
       "<Figure size 1000x1000 with 1 Axes>"
      ]
     },
     "metadata": {},
     "output_type": "display_data"
    }
   ],
   "source": [
    "plt.figure(figsize=(10,10))\n",
    "sns.countplot(x='school_distanceKm',hue='dropout',data=df)\n",
    "plt.show()"
   ]
  },
  {
   "cell_type": "code",
   "execution_count": 56,
   "id": "b536f7de",
   "metadata": {},
   "outputs": [
    {
     "data": {
      "text/html": [
       "<div>\n",
       "<style scoped>\n",
       "    .dataframe tbody tr th:only-of-type {\n",
       "        vertical-align: middle;\n",
       "    }\n",
       "\n",
       "    .dataframe tbody tr th {\n",
       "        vertical-align: top;\n",
       "    }\n",
       "\n",
       "    .dataframe thead th {\n",
       "        text-align: right;\n",
       "    }\n",
       "</style>\n",
       "<table border=\"1\" class=\"dataframe\">\n",
       "  <thead>\n",
       "    <tr style=\"text-align: right;\">\n",
       "      <th>dropout</th>\n",
       "      <th>No</th>\n",
       "      <th>Yes</th>\n",
       "    </tr>\n",
       "    <tr>\n",
       "      <th>school_distanceKm</th>\n",
       "      <th></th>\n",
       "      <th></th>\n",
       "    </tr>\n",
       "  </thead>\n",
       "  <tbody>\n",
       "    <tr>\n",
       "      <th>0.5-1 km</th>\n",
       "      <td>1</td>\n",
       "      <td>0</td>\n",
       "    </tr>\n",
       "    <tr>\n",
       "      <th>1-2 km</th>\n",
       "      <td>2</td>\n",
       "      <td>1</td>\n",
       "    </tr>\n",
       "    <tr>\n",
       "      <th>2-3 km</th>\n",
       "      <td>225</td>\n",
       "      <td>18</td>\n",
       "    </tr>\n",
       "  </tbody>\n",
       "</table>\n",
       "</div>"
      ],
      "text/plain": [
       "dropout             No  Yes\n",
       "school_distanceKm          \n",
       "0.5-1 km             1    0\n",
       "1-2 km               2    1\n",
       "2-3 km             225   18"
      ]
     },
     "execution_count": 56,
     "metadata": {},
     "output_type": "execute_result"
    }
   ],
   "source": [
    "c_t=pd.crosstab(df.school_distanceKm.sample(frac=0.004,replace=True,random_state=1).reset_index(drop=True),df.dropout.sample(frac=0.004,replace=True,random_state=1).reset_index(drop=True))\n",
    "c_t"
   ]
  },
  {
   "cell_type": "code",
   "execution_count": 57,
   "id": "e84105c5",
   "metadata": {},
   "outputs": [
    {
     "name": "stdout",
     "output_type": "stream",
     "text": [
      "Independent:Accept null hypothesis\n",
      "2.888888888888888\n",
      "2\n",
      "[[9.23076923e-01 7.69230769e-02]\n",
      " [2.76923077e+00 2.30769231e-01]\n",
      " [2.24307692e+02 1.86923077e+01]]\n",
      "0.23587708298570012\n"
     ]
    }
   ],
   "source": [
    "from scipy.stats import chi2_contingency\n",
    "\n",
    "stats,p,dof,expected=chi2_contingency(c_t)\n",
    "\n",
    "if p<=0.05:\n",
    "    print('Dependent:Reject null hypothesis')\n",
    "else:\n",
    "    print('Independent:Accept null hypothesis')\n",
    "\n",
    "print(stats)\n",
    "print(dof)\n",
    "print(expected)\n",
    "print(p)"
   ]
  },
  {
   "cell_type": "raw",
   "id": "65f2ab22",
   "metadata": {},
   "source": [
    "Conclusion:\n",
    "we can conclude that the columns school_distanceKm and droput are independent,Hence we accept the null hypothesis"
   ]
  },
  {
   "cell_type": "markdown",
   "id": "8398c265",
   "metadata": {},
   "source": [
    "# Relationship age between and dropout"
   ]
  },
  {
   "cell_type": "code",
   "execution_count": 58,
   "id": "81b15872",
   "metadata": {},
   "outputs": [
    {
     "data": {
      "image/png": "[encoded data removed]",
      "text/plain": [
       "<Figure size 600x600 with 1 Axes>"
      ]
     },
     "metadata": {},
     "output_type": "display_data"
    }
   ],
   "source": [
    "plt.figure(figsize=(6,6))\n",
    "sns.countplot(x='age',hue='dropout',data=df)\n",
    "plt.show()"
   ]
  },
  {
   "cell_type": "code",
   "execution_count": 59,
   "id": "2717e042",
   "metadata": {},
   "outputs": [
    {
     "data": {
      "text/html": [
       "<div>\n",
       "<style scoped>\n",
       "    .dataframe tbody tr th:only-of-type {\n",
       "        vertical-align: middle;\n",
       "    }\n",
       "\n",
       "    .dataframe tbody tr th {\n",
       "        vertical-align: top;\n",
       "    }\n",
       "\n",
       "    .dataframe thead th {\n",
       "        text-align: right;\n",
       "    }\n",
       "</style>\n",
       "<table border=\"1\" class=\"dataframe\">\n",
       "  <thead>\n",
       "    <tr style=\"text-align: right;\">\n",
       "      <th>dropout</th>\n",
       "      <th>No</th>\n",
       "      <th>Yes</th>\n",
       "    </tr>\n",
       "    <tr>\n",
       "      <th>age</th>\n",
       "      <th></th>\n",
       "      <th></th>\n",
       "    </tr>\n",
       "  </thead>\n",
       "  <tbody>\n",
       "    <tr>\n",
       "      <th>14.000000</th>\n",
       "      <td>18</td>\n",
       "      <td>2</td>\n",
       "    </tr>\n",
       "    <tr>\n",
       "      <th>15.000000</th>\n",
       "      <td>67</td>\n",
       "      <td>3</td>\n",
       "    </tr>\n",
       "    <tr>\n",
       "      <th>15.511708</th>\n",
       "      <td>2</td>\n",
       "      <td>0</td>\n",
       "    </tr>\n",
       "    <tr>\n",
       "      <th>16.000000</th>\n",
       "      <td>141</td>\n",
       "      <td>14</td>\n",
       "    </tr>\n",
       "  </tbody>\n",
       "</table>\n",
       "</div>"
      ],
      "text/plain": [
       "dropout     No  Yes\n",
       "age                \n",
       "14.000000   18    2\n",
       "15.000000   67    3\n",
       "15.511708    2    0\n",
       "16.000000  141   14"
      ]
     },
     "execution_count": 59,
     "metadata": {},
     "output_type": "execute_result"
    }
   ],
   "source": [
    "c_t=pd.crosstab(df.age.sample(frac=0.004,replace=True,random_state=1).reset_index(drop=True),df.dropout.sample(frac=0.004,replace=True,random_state=1).reset_index(drop=True))\n",
    "c_t"
   ]
  },
  {
   "cell_type": "code",
   "execution_count": 60,
   "id": "20bb776e",
   "metadata": {},
   "outputs": [
    {
     "name": "stdout",
     "output_type": "stream",
     "text": [
      "Independent:Accept ho\n",
      "1.8526497695852533\n",
      "0.6035453167871991\n",
      "3\n",
      "[[ 18.46153846   1.53846154]\n",
      " [ 64.61538462   5.38461538]\n",
      " [  1.84615385   0.15384615]\n",
      " [143.07692308  11.92307692]]\n"
     ]
    }
   ],
   "source": [
    "from scipy.stats import chi2_contingency\n",
    "\n",
    "stats,p,dof,expected=chi2_contingency(c_t)\n",
    "\n",
    "if p<=0.05:\n",
    "    print('Dependent:Reject ho')\n",
    "else:\n",
    "    print('Independent:Accept ho')\n",
    "print(stats)\n",
    "print(p)\n",
    "print(dof)\n",
    "print(expected)"
   ]
  },
  {
   "cell_type": "raw",
   "id": "9f361e89",
   "metadata": {},
   "source": [
    "Conclusion:\n",
    "we can conclude that the columns age and droput are independent,Hence we accept the null hypothesis"
   ]
  },
  {
   "cell_type": "markdown",
   "id": "5a1947df",
   "metadata": {},
   "source": [
    "# Relationship between gender and dropout"
   ]
  },
  {
   "cell_type": "code",
   "execution_count": 61,
   "id": "cdfc913b",
   "metadata": {},
   "outputs": [
    {
     "data": {
      "image/png": "[encoded data removed]",
      "text/plain": [
       "<Figure size 600x600 with 1 Axes>"
      ]
     },
     "metadata": {},
     "output_type": "display_data"
    }
   ],
   "source": [
    "plt.figure(figsize=(6,6))\n",
    "sns.countplot(x='gender',hue='dropout',data=df)\n",
    "plt.show()"
   ]
  },
  {
   "cell_type": "code",
   "execution_count": 62,
   "id": "553323a2",
   "metadata": {},
   "outputs": [
    {
     "data": {
      "text/html": [
       "<div>\n",
       "<style scoped>\n",
       "    .dataframe tbody tr th:only-of-type {\n",
       "        vertical-align: middle;\n",
       "    }\n",
       "\n",
       "    .dataframe tbody tr th {\n",
       "        vertical-align: top;\n",
       "    }\n",
       "\n",
       "    .dataframe thead th {\n",
       "        text-align: right;\n",
       "    }\n",
       "</style>\n",
       "<table border=\"1\" class=\"dataframe\">\n",
       "  <thead>\n",
       "    <tr style=\"text-align: right;\">\n",
       "      <th>dropout</th>\n",
       "      <th>No</th>\n",
       "      <th>Yes</th>\n",
       "    </tr>\n",
       "    <tr>\n",
       "      <th>gender</th>\n",
       "      <th></th>\n",
       "      <th></th>\n",
       "    </tr>\n",
       "  </thead>\n",
       "  <tbody>\n",
       "    <tr>\n",
       "      <th>Female</th>\n",
       "      <td>116</td>\n",
       "      <td>10</td>\n",
       "    </tr>\n",
       "    <tr>\n",
       "      <th>Male</th>\n",
       "      <td>112</td>\n",
       "      <td>9</td>\n",
       "    </tr>\n",
       "  </tbody>\n",
       "</table>\n",
       "</div>"
      ],
      "text/plain": [
       "dropout   No  Yes\n",
       "gender           \n",
       "Female   116   10\n",
       "Male     112    9"
      ]
     },
     "execution_count": 62,
     "metadata": {},
     "output_type": "execute_result"
    }
   ],
   "source": [
    "c_t=pd.crosstab(df.gender.sample(frac=0.004,replace=True,random_state=1).reset_index(drop=True),df.dropout.sample(frac=0.004,replace=True,random_state=1).reset_index(drop=True))\n",
    "c_t"
   ]
  },
  {
   "cell_type": "code",
   "execution_count": 63,
   "id": "7565343c",
   "metadata": {},
   "outputs": [
    {
     "name": "stdout",
     "output_type": "stream",
     "text": [
      "Independent:Accept ho\n",
      "0.0\n",
      "1.0\n",
      "1\n",
      "[[116.30769231   9.69230769]\n",
      " [111.69230769   9.30769231]]\n"
     ]
    }
   ],
   "source": [
    "from scipy.stats import chi2_contingency\n",
    "\n",
    "stats,p,dof,expected=chi2_contingency(c_t)\n",
    "\n",
    "if p<=0.05:\n",
    "    print('Dependent:Reject ho')\n",
    "else:\n",
    "    print('Independent:Accept ho')\n",
    "print(stats)\n",
    "print(p)\n",
    "print(dof)\n",
    "print(expected)"
   ]
  },
  {
   "cell_type": "raw",
   "id": "904a1e6f",
   "metadata": {},
   "source": [
    "Conclusion:\n",
    "we can conclude that the columns gender and droput are independent,Hence we accept the null hypothesis"
   ]
  },
  {
   "cell_type": "markdown",
   "id": "f4297ccf",
   "metadata": {},
   "source": [
    "# Relationship between grade and dropout"
   ]
  },
  {
   "cell_type": "code",
   "execution_count": 64,
   "id": "716c6a85",
   "metadata": {},
   "outputs": [
    {
     "data": {
      "image/png": "[encoded data removed]",
      "text/plain": [
       "<Figure size 600x600 with 1 Axes>"
      ]
     },
     "metadata": {},
     "output_type": "display_data"
    }
   ],
   "source": [
    "plt.figure(figsize=(6,6))\n",
    "sns.countplot(x='grade',hue='dropout',data=df)\n",
    "plt.show()"
   ]
  },
  {
   "cell_type": "code",
   "execution_count": 65,
   "id": "d1fcaad5",
   "metadata": {},
   "outputs": [
    {
     "data": {
      "text/html": [
       "<div>\n",
       "<style scoped>\n",
       "    .dataframe tbody tr th:only-of-type {\n",
       "        vertical-align: middle;\n",
       "    }\n",
       "\n",
       "    .dataframe tbody tr th {\n",
       "        vertical-align: top;\n",
       "    }\n",
       "\n",
       "    .dataframe thead th {\n",
       "        text-align: right;\n",
       "    }\n",
       "</style>\n",
       "<table border=\"1\" class=\"dataframe\">\n",
       "  <thead>\n",
       "    <tr style=\"text-align: right;\">\n",
       "      <th>dropout</th>\n",
       "      <th>No</th>\n",
       "      <th>Yes</th>\n",
       "    </tr>\n",
       "    <tr>\n",
       "      <th>grade</th>\n",
       "      <th></th>\n",
       "      <th></th>\n",
       "    </tr>\n",
       "  </thead>\n",
       "  <tbody>\n",
       "    <tr>\n",
       "      <th>Form Four</th>\n",
       "      <td>3</td>\n",
       "      <td>0</td>\n",
       "    </tr>\n",
       "    <tr>\n",
       "      <th>Form One</th>\n",
       "      <td>136</td>\n",
       "      <td>11</td>\n",
       "    </tr>\n",
       "    <tr>\n",
       "      <th>Form Three</th>\n",
       "      <td>21</td>\n",
       "      <td>4</td>\n",
       "    </tr>\n",
       "    <tr>\n",
       "      <th>Form Two</th>\n",
       "      <td>68</td>\n",
       "      <td>4</td>\n",
       "    </tr>\n",
       "  </tbody>\n",
       "</table>\n",
       "</div>"
      ],
      "text/plain": [
       "dropout      No  Yes\n",
       "grade               \n",
       "Form Four     3    0\n",
       "Form One    136   11\n",
       "Form Three   21    4\n",
       "Form Two     68    4"
      ]
     },
     "execution_count": 65,
     "metadata": {},
     "output_type": "execute_result"
    }
   ],
   "source": [
    "c_t=pd.crosstab(df.grade.sample(frac=0.004,replace=True,random_state=1).reset_index(drop=True),df.dropout.sample(frac=0.004,replace=True,random_state=1).reset_index(drop=True))\n",
    "c_t"
   ]
  },
  {
   "cell_type": "code",
   "execution_count": 66,
   "id": "02eefc48",
   "metadata": {},
   "outputs": [
    {
     "name": "stdout",
     "output_type": "stream",
     "text": [
      "Independent:Accept ho\n",
      "3.152033257747543\n",
      "0.36877339821605437\n",
      "3\n",
      "[[  2.76923077   0.23076923]\n",
      " [135.69230769  11.30769231]\n",
      " [ 23.07692308   1.92307692]\n",
      " [ 66.46153846   5.53846154]]\n"
     ]
    }
   ],
   "source": [
    "from scipy.stats import chi2_contingency\n",
    "\n",
    "stats,p,dof,expected=chi2_contingency(c_t)\n",
    "\n",
    "if p<=0.05:\n",
    "    print('Dependent:Reject ho')\n",
    "else:\n",
    "    print('Independent:Accept ho')\n",
    "print(stats)\n",
    "print(p)\n",
    "print(dof)\n",
    "print(expected)"
   ]
  },
  {
   "cell_type": "raw",
   "id": "0ebe690a",
   "metadata": {},
   "source": [
    "Conclusion:\n",
    "we can conclude that the columns grade and droput are independent,Hence we accept the null hypothesis"
   ]
  },
  {
   "cell_type": "markdown",
   "id": "a0ee8835",
   "metadata": {},
   "source": [
    "# Relationship between meansToSchool and dropout"
   ]
  },
  {
   "cell_type": "code",
   "execution_count": 67,
   "id": "f61076ff",
   "metadata": {},
   "outputs": [
    {
     "data": {
      "image/png": "[encoded data removed]",
      "text/plain": [
       "<Figure size 600x600 with 1 Axes>"
      ]
     },
     "metadata": {},
     "output_type": "display_data"
    }
   ],
   "source": [
    "plt.figure(figsize=(6,6))\n",
    "sns.countplot(x='meansToSchool',hue='dropout',data=df)\n",
    "plt.show()"
   ]
  },
  {
   "cell_type": "code",
   "execution_count": 68,
   "id": "8b4732ce",
   "metadata": {},
   "outputs": [
    {
     "data": {
      "text/html": [
       "<div>\n",
       "<style scoped>\n",
       "    .dataframe tbody tr th:only-of-type {\n",
       "        vertical-align: middle;\n",
       "    }\n",
       "\n",
       "    .dataframe tbody tr th {\n",
       "        vertical-align: top;\n",
       "    }\n",
       "\n",
       "    .dataframe thead th {\n",
       "        text-align: right;\n",
       "    }\n",
       "</style>\n",
       "<table border=\"1\" class=\"dataframe\">\n",
       "  <thead>\n",
       "    <tr style=\"text-align: right;\">\n",
       "      <th>dropout</th>\n",
       "      <th>No</th>\n",
       "      <th>Yes</th>\n",
       "    </tr>\n",
       "    <tr>\n",
       "      <th>meansToSchool</th>\n",
       "      <th></th>\n",
       "      <th></th>\n",
       "    </tr>\n",
       "  </thead>\n",
       "  <tbody>\n",
       "    <tr>\n",
       "      <th>Bicycle/motorbike</th>\n",
       "      <td>18</td>\n",
       "      <td>0</td>\n",
       "    </tr>\n",
       "    <tr>\n",
       "      <th>Private car</th>\n",
       "      <td>1</td>\n",
       "      <td>0</td>\n",
       "    </tr>\n",
       "    <tr>\n",
       "      <th>Public transport</th>\n",
       "      <td>4</td>\n",
       "      <td>0</td>\n",
       "    </tr>\n",
       "    <tr>\n",
       "      <th>Walk</th>\n",
       "      <td>205</td>\n",
       "      <td>19</td>\n",
       "    </tr>\n",
       "  </tbody>\n",
       "</table>\n",
       "</div>"
      ],
      "text/plain": [
       "dropout             No  Yes\n",
       "meansToSchool              \n",
       "Bicycle/motorbike   18    0\n",
       "Private car          1    0\n",
       "Public transport     4    0\n",
       "Walk               205   19"
      ]
     },
     "execution_count": 68,
     "metadata": {},
     "output_type": "execute_result"
    }
   ],
   "source": [
    "c_t=pd.crosstab(df.meansToSchool.sample(frac=0.004,replace=True,random_state=1).reset_index(drop=True),df.dropout.sample(frac=0.004,replace=True,random_state=1).reset_index(drop=True))\n",
    "c_t"
   ]
  },
  {
   "cell_type": "code",
   "execution_count": 69,
   "id": "8d4fca1a",
   "metadata": {},
   "outputs": [
    {
     "name": "stdout",
     "output_type": "stream",
     "text": [
      "Independent:Accept ho\n",
      "2.113467261904762\n",
      "0.549193053031096\n",
      "3\n",
      "[[1.66153846e+01 1.38461538e+00]\n",
      " [9.23076923e-01 7.69230769e-02]\n",
      " [3.69230769e+00 3.07692308e-01]\n",
      " [2.06769231e+02 1.72307692e+01]]\n"
     ]
    }
   ],
   "source": [
    "from scipy.stats import chi2_contingency\n",
    "\n",
    "stats,p,dof,expected=chi2_contingency(c_t)\n",
    "\n",
    "if p<=0.05:\n",
    "    print('Dependent:Reject ho')\n",
    "else:\n",
    "    print('Independent:Accept ho')\n",
    "print(stats)\n",
    "print(p)\n",
    "print(dof)\n",
    "print(expected)"
   ]
  },
  {
   "cell_type": "raw",
   "id": "ec899154",
   "metadata": {},
   "source": [
    "Conclusion:\n",
    "we can conclude that the columns meansToSchool and droput are independent,Hence we accept the null hypothesis"
   ]
  },
  {
   "cell_type": "markdown",
   "id": "78873fbb",
   "metadata": {},
   "source": [
    "# Relationship hh_children between    and dropout"
   ]
  },
  {
   "cell_type": "code",
   "execution_count": 70,
   "id": "9c351ba6",
   "metadata": {},
   "outputs": [
    {
     "data": {
      "image/png": "[encoded data removed]",
      "text/plain": [
       "<Figure size 800x800 with 1 Axes>"
      ]
     },
     "metadata": {},
     "output_type": "display_data"
    }
   ],
   "source": [
    "plt.figure(figsize=(8,8))\n",
    "sns.countplot(x='hh_children',hue='dropout',data=df)\n",
    "plt.show()"
   ]
  },
  {
   "cell_type": "code",
   "execution_count": 71,
   "id": "363bec2c",
   "metadata": {},
   "outputs": [
    {
     "data": {
      "text/html": [
       "<div>\n",
       "<style scoped>\n",
       "    .dataframe tbody tr th:only-of-type {\n",
       "        vertical-align: middle;\n",
       "    }\n",
       "\n",
       "    .dataframe tbody tr th {\n",
       "        vertical-align: top;\n",
       "    }\n",
       "\n",
       "    .dataframe thead th {\n",
       "        text-align: right;\n",
       "    }\n",
       "</style>\n",
       "<table border=\"1\" class=\"dataframe\">\n",
       "  <thead>\n",
       "    <tr style=\"text-align: right;\">\n",
       "      <th>dropout</th>\n",
       "      <th>No</th>\n",
       "      <th>Yes</th>\n",
       "    </tr>\n",
       "    <tr>\n",
       "      <th>hh_children</th>\n",
       "      <th></th>\n",
       "      <th></th>\n",
       "    </tr>\n",
       "  </thead>\n",
       "  <tbody>\n",
       "    <tr>\n",
       "      <th>Five Children</th>\n",
       "      <td>58</td>\n",
       "      <td>0</td>\n",
       "    </tr>\n",
       "    <tr>\n",
       "      <th>Four Children</th>\n",
       "      <td>41</td>\n",
       "      <td>0</td>\n",
       "    </tr>\n",
       "    <tr>\n",
       "      <th>More than five</th>\n",
       "      <td>23</td>\n",
       "      <td>19</td>\n",
       "    </tr>\n",
       "    <tr>\n",
       "      <th>Three Children</th>\n",
       "      <td>60</td>\n",
       "      <td>0</td>\n",
       "    </tr>\n",
       "    <tr>\n",
       "      <th>Two Children</th>\n",
       "      <td>46</td>\n",
       "      <td>0</td>\n",
       "    </tr>\n",
       "  </tbody>\n",
       "</table>\n",
       "</div>"
      ],
      "text/plain": [
       "dropout         No  Yes\n",
       "hh_children            \n",
       "Five Children   58    0\n",
       "Four Children   41    0\n",
       "More than five  23   19\n",
       "Three Children  60    0\n",
       "Two Children    46    0"
      ]
     },
     "execution_count": 71,
     "metadata": {},
     "output_type": "execute_result"
    }
   ],
   "source": [
    "c_t=pd.crosstab(df.hh_children.sample(frac=0.004,replace=True,random_state=1).reset_index(drop=True),df.dropout.sample(frac=0.004,replace=True,random_state=1).reset_index(drop=True))\n",
    "c_t"
   ]
  },
  {
   "cell_type": "code",
   "execution_count": 72,
   "id": "2181db15",
   "metadata": {},
   "outputs": [
    {
     "name": "stdout",
     "output_type": "stream",
     "text": [
      "Dependent:Reject ho\n",
      "100.46626984126983\n",
      "7.826680872787784e-21\n",
      "4\n",
      "[[53.53846154  4.46153846]\n",
      " [37.84615385  3.15384615]\n",
      " [38.76923077  3.23076923]\n",
      " [55.38461538  4.61538462]\n",
      " [42.46153846  3.53846154]]\n"
     ]
    }
   ],
   "source": [
    "from scipy.stats import chi2_contingency\n",
    "\n",
    "stats,p,dof,expected=chi2_contingency(c_t)\n",
    "\n",
    "if p<=0.05:\n",
    "    print('Dependent:Reject ho')\n",
    "else:\n",
    "    print('Independent:Accept ho')\n",
    "print(stats)\n",
    "print(p)\n",
    "print(dof)\n",
    "print(expected)"
   ]
  },
  {
   "cell_type": "code",
   "execution_count": 73,
   "id": "a87bf67f",
   "metadata": {},
   "outputs": [
    {
     "data": {
      "text/plain": [
       "Index(['location_name', 'home_language', 'hh_occupation', 'hh_size',\n",
       "       'school_distanceKm', 'age', 'gender', 'grade', 'meansToSchool',\n",
       "       'hh_children', 'dropout'],\n",
       "      dtype='object')"
      ]
     },
     "execution_count": 73,
     "metadata": {},
     "output_type": "execute_result"
    }
   ],
   "source": [
    "df.columns"
   ]
  },
  {
   "cell_type": "raw",
   "id": "0b00bb3c",
   "metadata": {},
   "source": [
    "Conclusion:\n",
    "we can conclude that the columns hh_children and droput are dependent,Hence we accept the null hypothesis"
   ]
  },
  {
   "cell_type": "markdown",
   "id": "d9dfd55f",
   "metadata": {},
   "source": [
    "# Multivariate analysis between hh_occupation,gender and dropout"
   ]
  },
  {
   "cell_type": "code",
   "execution_count": 74,
   "id": "94ba57ae",
   "metadata": {},
   "outputs": [
    {
     "data": {
      "text/html": [
       "<div>\n",
       "<style scoped>\n",
       "    .dataframe tbody tr th:only-of-type {\n",
       "        vertical-align: middle;\n",
       "    }\n",
       "\n",
       "    .dataframe tbody tr th {\n",
       "        vertical-align: top;\n",
       "    }\n",
       "\n",
       "    .dataframe thead th {\n",
       "        text-align: right;\n",
       "    }\n",
       "</style>\n",
       "<table border=\"1\" class=\"dataframe\">\n",
       "  <thead>\n",
       "    <tr style=\"text-align: right;\">\n",
       "      <th></th>\n",
       "      <th>dropout</th>\n",
       "      <th>No</th>\n",
       "      <th>Yes</th>\n",
       "    </tr>\n",
       "    <tr>\n",
       "      <th>hh_occupation</th>\n",
       "      <th>gender</th>\n",
       "      <th></th>\n",
       "      <th></th>\n",
       "    </tr>\n",
       "  </thead>\n",
       "  <tbody>\n",
       "    <tr>\n",
       "      <th rowspan=\"2\" valign=\"top\">Agriculture</th>\n",
       "      <th>Female</th>\n",
       "      <td>172</td>\n",
       "      <td>154</td>\n",
       "    </tr>\n",
       "    <tr>\n",
       "      <th>Male</th>\n",
       "      <td>323</td>\n",
       "      <td>2</td>\n",
       "    </tr>\n",
       "    <tr>\n",
       "      <th rowspan=\"2\" valign=\"top\">Housewife</th>\n",
       "      <th>Female</th>\n",
       "      <td>156</td>\n",
       "      <td>0</td>\n",
       "    </tr>\n",
       "    <tr>\n",
       "      <th>Male</th>\n",
       "      <td>155</td>\n",
       "      <td>0</td>\n",
       "    </tr>\n",
       "    <tr>\n",
       "      <th rowspan=\"2\" valign=\"top\">Private sector</th>\n",
       "      <th>Female</th>\n",
       "      <td>464</td>\n",
       "      <td>0</td>\n",
       "    </tr>\n",
       "    <tr>\n",
       "      <th>Male</th>\n",
       "      <td>161</td>\n",
       "      <td>0</td>\n",
       "    </tr>\n",
       "    <tr>\n",
       "      <th rowspan=\"2\" valign=\"top\">Public sector</th>\n",
       "      <th>Female</th>\n",
       "      <td>7</td>\n",
       "      <td>1</td>\n",
       "    </tr>\n",
       "    <tr>\n",
       "      <th>Male</th>\n",
       "      <td>164</td>\n",
       "      <td>0</td>\n",
       "    </tr>\n",
       "    <tr>\n",
       "      <th rowspan=\"2\" valign=\"top\">Self-employed</th>\n",
       "      <th>Female</th>\n",
       "      <td>2486</td>\n",
       "      <td>465</td>\n",
       "    </tr>\n",
       "    <tr>\n",
       "      <th>Male</th>\n",
       "      <td>2331</td>\n",
       "      <td>465</td>\n",
       "    </tr>\n",
       "    <tr>\n",
       "      <th rowspan=\"2\" valign=\"top\">Unemployed</th>\n",
       "      <th>Female</th>\n",
       "      <td>27705</td>\n",
       "      <td>2922</td>\n",
       "    </tr>\n",
       "    <tr>\n",
       "      <th>Male</th>\n",
       "      <td>21942</td>\n",
       "      <td>1656</td>\n",
       "    </tr>\n",
       "  </tbody>\n",
       "</table>\n",
       "</div>"
      ],
      "text/plain": [
       "dropout                   No   Yes\n",
       "hh_occupation  gender             \n",
       "Agriculture    Female    172   154\n",
       "               Male      323     2\n",
       "Housewife      Female    156     0\n",
       "               Male      155     0\n",
       "Private sector Female    464     0\n",
       "               Male      161     0\n",
       "Public sector  Female      7     1\n",
       "               Male      164     0\n",
       "Self-employed  Female   2486   465\n",
       "               Male     2331   465\n",
       "Unemployed     Female  27705  2922\n",
       "               Male    21942  1656"
      ]
     },
     "execution_count": 74,
     "metadata": {},
     "output_type": "execute_result"
    }
   ],
   "source": [
    "pd.crosstab([df.hh_occupation,df.gender],df.dropout)"
   ]
  },
  {
   "cell_type": "code",
   "execution_count": 75,
   "id": "3828f369",
   "metadata": {},
   "outputs": [
    {
     "data": {
      "text/html": [
       "<div>\n",
       "<style scoped>\n",
       "    .dataframe tbody tr th:only-of-type {\n",
       "        vertical-align: middle;\n",
       "    }\n",
       "\n",
       "    .dataframe tbody tr th {\n",
       "        vertical-align: top;\n",
       "    }\n",
       "\n",
       "    .dataframe thead th {\n",
       "        text-align: right;\n",
       "    }\n",
       "</style>\n",
       "<table border=\"1\" class=\"dataframe\">\n",
       "  <thead>\n",
       "    <tr style=\"text-align: right;\">\n",
       "      <th></th>\n",
       "      <th>dropout</th>\n",
       "      <th>No</th>\n",
       "      <th>Yes</th>\n",
       "    </tr>\n",
       "    <tr>\n",
       "      <th>hh_occupation</th>\n",
       "      <th>gender</th>\n",
       "      <th></th>\n",
       "      <th></th>\n",
       "    </tr>\n",
       "  </thead>\n",
       "  <tbody>\n",
       "    <tr>\n",
       "      <th rowspan=\"2\" valign=\"top\">Agriculture</th>\n",
       "      <th>Female</th>\n",
       "      <td>1</td>\n",
       "      <td>1</td>\n",
       "    </tr>\n",
       "    <tr>\n",
       "      <th>Male</th>\n",
       "      <td>3</td>\n",
       "      <td>0</td>\n",
       "    </tr>\n",
       "    <tr>\n",
       "      <th>Housewife</th>\n",
       "      <th>Female</th>\n",
       "      <td>2</td>\n",
       "      <td>0</td>\n",
       "    </tr>\n",
       "    <tr>\n",
       "      <th>Private sector</th>\n",
       "      <th>Female</th>\n",
       "      <td>1</td>\n",
       "      <td>0</td>\n",
       "    </tr>\n",
       "    <tr>\n",
       "      <th>Public sector</th>\n",
       "      <th>Male</th>\n",
       "      <td>1</td>\n",
       "      <td>0</td>\n",
       "    </tr>\n",
       "    <tr>\n",
       "      <th rowspan=\"2\" valign=\"top\">Self-employed</th>\n",
       "      <th>Female</th>\n",
       "      <td>12</td>\n",
       "      <td>2</td>\n",
       "    </tr>\n",
       "    <tr>\n",
       "      <th>Male</th>\n",
       "      <td>6</td>\n",
       "      <td>3</td>\n",
       "    </tr>\n",
       "    <tr>\n",
       "      <th rowspan=\"2\" valign=\"top\">Unemployed</th>\n",
       "      <th>Female</th>\n",
       "      <td>100</td>\n",
       "      <td>7</td>\n",
       "    </tr>\n",
       "    <tr>\n",
       "      <th>Male</th>\n",
       "      <td>102</td>\n",
       "      <td>6</td>\n",
       "    </tr>\n",
       "  </tbody>\n",
       "</table>\n",
       "</div>"
      ],
      "text/plain": [
       "dropout                 No  Yes\n",
       "hh_occupation  gender          \n",
       "Agriculture    Female    1    1\n",
       "               Male      3    0\n",
       "Housewife      Female    2    0\n",
       "Private sector Female    1    0\n",
       "Public sector  Male      1    0\n",
       "Self-employed  Female   12    2\n",
       "               Male      6    3\n",
       "Unemployed     Female  100    7\n",
       "               Male    102    6"
      ]
     },
     "execution_count": 75,
     "metadata": {},
     "output_type": "execute_result"
    }
   ],
   "source": [
    "pd.crosstab([df.hh_occupation.sample(frac=0.004,replace=True,random_state=1).reset_index(drop=True),df.gender.sample(frac=0.004,random_state=1,replace=True).reset_index(drop=True)],df.dropout.sample(frac=0.004,random_state=1,replace=True).reset_index(drop=True))"
   ]
  },
  {
   "cell_type": "code",
   "execution_count": 76,
   "id": "8ce3b5e0",
   "metadata": {},
   "outputs": [
    {
     "name": "stdout",
     "output_type": "stream",
     "text": [
      "Dependent:reject the null hypothesis\n"
     ]
    }
   ],
   "source": [
    "from scipy.stats import chi2_contingency\n",
    "\n",
    "stats,p,dof,expected=chi2_contingency(c_t)\n",
    "\n",
    "if p<=0.05:\n",
    "    print('Dependent:reject the null hypothesis')\n",
    "else:\n",
    "    print('Independent :accept the null hupothesis')"
   ]
  },
  {
   "cell_type": "markdown",
   "id": "694518d4",
   "metadata": {},
   "source": [
    "# Machine Learning"
   ]
  },
  {
   "cell_type": "code",
   "execution_count": 77,
   "id": "c7a162b2",
   "metadata": {},
   "outputs": [
    {
     "data": {
      "text/html": [
       "<div>\n",
       "<style scoped>\n",
       "    .dataframe tbody tr th:only-of-type {\n",
       "        vertical-align: middle;\n",
       "    }\n",
       "\n",
       "    .dataframe tbody tr th {\n",
       "        vertical-align: top;\n",
       "    }\n",
       "\n",
       "    .dataframe thead th {\n",
       "        text-align: right;\n",
       "    }\n",
       "</style>\n",
       "<table border=\"1\" class=\"dataframe\">\n",
       "  <thead>\n",
       "    <tr style=\"text-align: right;\">\n",
       "      <th></th>\n",
       "      <th>location_name</th>\n",
       "      <th>home_language</th>\n",
       "      <th>hh_occupation</th>\n",
       "      <th>hh_size</th>\n",
       "      <th>school_distanceKm</th>\n",
       "      <th>age</th>\n",
       "      <th>gender</th>\n",
       "      <th>grade</th>\n",
       "      <th>meansToSchool</th>\n",
       "      <th>hh_children</th>\n",
       "      <th>dropout</th>\n",
       "    </tr>\n",
       "  </thead>\n",
       "  <tbody>\n",
       "    <tr>\n",
       "      <th>4</th>\n",
       "      <td>Urban</td>\n",
       "      <td>Kiswahili</td>\n",
       "      <td>Self-employed</td>\n",
       "      <td>More than five</td>\n",
       "      <td>4-5 km</td>\n",
       "      <td>15.511708</td>\n",
       "      <td>Female</td>\n",
       "      <td>Form One</td>\n",
       "      <td>Public transport</td>\n",
       "      <td>More than five</td>\n",
       "      <td>No</td>\n",
       "    </tr>\n",
       "    <tr>\n",
       "      <th>5</th>\n",
       "      <td>Urban</td>\n",
       "      <td>English</td>\n",
       "      <td>Agriculture</td>\n",
       "      <td>More than five</td>\n",
       "      <td>2-3 km</td>\n",
       "      <td>15.511708</td>\n",
       "      <td>Female</td>\n",
       "      <td>Form One</td>\n",
       "      <td>Public transport</td>\n",
       "      <td>Five Children</td>\n",
       "      <td>No</td>\n",
       "    </tr>\n",
       "    <tr>\n",
       "      <th>6</th>\n",
       "      <td>Urban</td>\n",
       "      <td>Kiswahili</td>\n",
       "      <td>Agriculture</td>\n",
       "      <td>Five Children</td>\n",
       "      <td>2-3 km</td>\n",
       "      <td>15.511708</td>\n",
       "      <td>Female</td>\n",
       "      <td>Form Two</td>\n",
       "      <td>Walk</td>\n",
       "      <td>More than five</td>\n",
       "      <td>No</td>\n",
       "    </tr>\n",
       "    <tr>\n",
       "      <th>7</th>\n",
       "      <td>Rural</td>\n",
       "      <td>English</td>\n",
       "      <td>Agriculture</td>\n",
       "      <td>More than five</td>\n",
       "      <td>1-2 km</td>\n",
       "      <td>15.511708</td>\n",
       "      <td>Male</td>\n",
       "      <td>Form One</td>\n",
       "      <td>Walk</td>\n",
       "      <td>Four Children</td>\n",
       "      <td>No</td>\n",
       "    </tr>\n",
       "    <tr>\n",
       "      <th>8</th>\n",
       "      <td>Rural</td>\n",
       "      <td>English</td>\n",
       "      <td>Agriculture</td>\n",
       "      <td>More than five</td>\n",
       "      <td>4-5 km</td>\n",
       "      <td>15.511708</td>\n",
       "      <td>Female</td>\n",
       "      <td>Form One</td>\n",
       "      <td>Bicycle/motorbike</td>\n",
       "      <td>More than five</td>\n",
       "      <td>No</td>\n",
       "    </tr>\n",
       "    <tr>\n",
       "      <th>...</th>\n",
       "      <td>...</td>\n",
       "      <td>...</td>\n",
       "      <td>...</td>\n",
       "      <td>...</td>\n",
       "      <td>...</td>\n",
       "      <td>...</td>\n",
       "      <td>...</td>\n",
       "      <td>...</td>\n",
       "      <td>...</td>\n",
       "      <td>...</td>\n",
       "      <td>...</td>\n",
       "    </tr>\n",
       "    <tr>\n",
       "      <th>62734</th>\n",
       "      <td>Rural</td>\n",
       "      <td>English</td>\n",
       "      <td>Unemployed</td>\n",
       "      <td>Four Children</td>\n",
       "      <td>2-3 km</td>\n",
       "      <td>16.000000</td>\n",
       "      <td>Female</td>\n",
       "      <td>Form One</td>\n",
       "      <td>Bicycle/motorbike</td>\n",
       "      <td>Two Children</td>\n",
       "      <td>No</td>\n",
       "    </tr>\n",
       "    <tr>\n",
       "      <th>62735</th>\n",
       "      <td>Rural</td>\n",
       "      <td>English</td>\n",
       "      <td>Unemployed</td>\n",
       "      <td>Five Children</td>\n",
       "      <td>2-3 km</td>\n",
       "      <td>16.000000</td>\n",
       "      <td>Male</td>\n",
       "      <td>Form Two</td>\n",
       "      <td>Walk</td>\n",
       "      <td>Two Children</td>\n",
       "      <td>No</td>\n",
       "    </tr>\n",
       "    <tr>\n",
       "      <th>62736</th>\n",
       "      <td>Rural</td>\n",
       "      <td>English</td>\n",
       "      <td>Unemployed</td>\n",
       "      <td>More than five</td>\n",
       "      <td>2-3 km</td>\n",
       "      <td>16.000000</td>\n",
       "      <td>Female</td>\n",
       "      <td>Form Three</td>\n",
       "      <td>Walk</td>\n",
       "      <td>Three Children</td>\n",
       "      <td>No</td>\n",
       "    </tr>\n",
       "    <tr>\n",
       "      <th>62737</th>\n",
       "      <td>Rural</td>\n",
       "      <td>English</td>\n",
       "      <td>Unemployed</td>\n",
       "      <td>Three Children</td>\n",
       "      <td>2-3 km</td>\n",
       "      <td>16.000000</td>\n",
       "      <td>Female</td>\n",
       "      <td>Form One</td>\n",
       "      <td>Walk</td>\n",
       "      <td>Two Children</td>\n",
       "      <td>No</td>\n",
       "    </tr>\n",
       "    <tr>\n",
       "      <th>62738</th>\n",
       "      <td>Rural</td>\n",
       "      <td>English</td>\n",
       "      <td>Unemployed</td>\n",
       "      <td>More than five</td>\n",
       "      <td>2-3 km</td>\n",
       "      <td>16.000000</td>\n",
       "      <td>Male</td>\n",
       "      <td>Form Two</td>\n",
       "      <td>Bicycle/motorbike</td>\n",
       "      <td>Five Children</td>\n",
       "      <td>No</td>\n",
       "    </tr>\n",
       "  </tbody>\n",
       "</table>\n",
       "<p>61731 rows × 11 columns</p>\n",
       "</div>"
      ],
      "text/plain": [
       "      location_name home_language  hh_occupation         hh_size  \\\n",
       "4             Urban     Kiswahili  Self-employed  More than five   \n",
       "5             Urban       English    Agriculture  More than five   \n",
       "6             Urban     Kiswahili    Agriculture   Five Children   \n",
       "7             Rural       English    Agriculture  More than five   \n",
       "8             Rural       English    Agriculture  More than five   \n",
       "...             ...           ...            ...             ...   \n",
       "62734         Rural       English     Unemployed   Four Children   \n",
       "62735         Rural       English     Unemployed   Five Children   \n",
       "62736         Rural       English     Unemployed  More than five   \n",
       "62737         Rural       English     Unemployed  Three Children   \n",
       "62738         Rural       English     Unemployed  More than five   \n",
       "\n",
       "      school_distanceKm        age  gender       grade      meansToSchool  \\\n",
       "4                4-5 km  15.511708  Female    Form One   Public transport   \n",
       "5                2-3 km  15.511708  Female    Form One   Public transport   \n",
       "6                2-3 km  15.511708  Female    Form Two               Walk   \n",
       "7                1-2 km  15.511708    Male    Form One               Walk   \n",
       "8                4-5 km  15.511708  Female    Form One  Bicycle/motorbike   \n",
       "...                 ...        ...     ...         ...                ...   \n",
       "62734            2-3 km  16.000000  Female    Form One  Bicycle/motorbike   \n",
       "62735            2-3 km  16.000000    Male    Form Two               Walk   \n",
       "62736            2-3 km  16.000000  Female  Form Three               Walk   \n",
       "62737            2-3 km  16.000000  Female    Form One               Walk   \n",
       "62738            2-3 km  16.000000    Male    Form Two  Bicycle/motorbike   \n",
       "\n",
       "          hh_children dropout  \n",
       "4      More than five      No  \n",
       "5       Five Children      No  \n",
       "6      More than five      No  \n",
       "7       Four Children      No  \n",
       "8      More than five      No  \n",
       "...               ...     ...  \n",
       "62734    Two Children      No  \n",
       "62735    Two Children      No  \n",
       "62736  Three Children      No  \n",
       "62737    Two Children      No  \n",
       "62738   Five Children      No  \n",
       "\n",
       "[61731 rows x 11 columns]"
      ]
     },
     "execution_count": 77,
     "metadata": {},
     "output_type": "execute_result"
    }
   ],
   "source": [
    "df"
   ]
  },
  {
   "cell_type": "code",
   "execution_count": 78,
   "id": "430cbba8",
   "metadata": {},
   "outputs": [],
   "source": [
    "from sklearn.preprocessing import LabelEncoder\n",
    "\n",
    "le_location_name=LabelEncoder()\n",
    "le_home_language=LabelEncoder()\n",
    "le_hh_occupation=LabelEncoder()\n",
    "le_hh_size=LabelEncoder()\n",
    "le_school_distanceKm=LabelEncoder()\n",
    "le_gender=LabelEncoder()\n",
    "le_grade=LabelEncoder()\n",
    "le_meansToSchool=LabelEncoder()\n",
    "le_hh_children=LabelEncoder()\n",
    "le_dropout=LabelEncoder()"
   ]
  },
  {
   "cell_type": "code",
   "execution_count": 79,
   "id": "62162bb4",
   "metadata": {},
   "outputs": [],
   "source": [
    "df['new_location_name']=le_location_name.fit_transform(df['location_name'])\n",
    "df['new_home_language']=le_home_language.fit_transform(df['home_language'])\n",
    "df['new_hh_occupation']=le_hh_occupation.fit_transform(df['hh_occupation'])\n",
    "df['new_hh_size']=le_hh_size.fit_transform(df['hh_size'])\n",
    "df['new_school_distanceKm']=le_school_distanceKm.fit_transform(df['school_distanceKm'])\n",
    "df['new_gender']=le_gender.fit_transform(df['gender'])\n",
    "df['new_grade']=le_gender.fit_transform(df['grade'])\n",
    "df['new_meansToSchool']=le_meansToSchool.fit_transform(df['meansToSchool'])\n",
    "df['new_hh_children']=le_hh_children.fit_transform(df['hh_children'])\n",
    "df['new_dropout']=le_dropout.fit_transform(df['dropout'])\n",
    "df['new_age']=df['age']"
   ]
  },
  {
   "cell_type": "code",
   "execution_count": 80,
   "id": "79b3bec9",
   "metadata": {},
   "outputs": [
    {
     "data": {
      "text/html": [
       "<div>\n",
       "<style scoped>\n",
       "    .dataframe tbody tr th:only-of-type {\n",
       "        vertical-align: middle;\n",
       "    }\n",
       "\n",
       "    .dataframe tbody tr th {\n",
       "        vertical-align: top;\n",
       "    }\n",
       "\n",
       "    .dataframe thead th {\n",
       "        text-align: right;\n",
       "    }\n",
       "</style>\n",
       "<table border=\"1\" class=\"dataframe\">\n",
       "  <thead>\n",
       "    <tr style=\"text-align: right;\">\n",
       "      <th></th>\n",
       "      <th>new_location_name</th>\n",
       "      <th>new_home_language</th>\n",
       "      <th>new_hh_occupation</th>\n",
       "      <th>new_hh_size</th>\n",
       "      <th>new_school_distanceKm</th>\n",
       "      <th>new_gender</th>\n",
       "      <th>new_grade</th>\n",
       "      <th>new_meansToSchool</th>\n",
       "      <th>new_hh_children</th>\n",
       "      <th>new_dropout</th>\n",
       "      <th>new_age</th>\n",
       "    </tr>\n",
       "  </thead>\n",
       "  <tbody>\n",
       "    <tr>\n",
       "      <th>4</th>\n",
       "      <td>1</td>\n",
       "      <td>1</td>\n",
       "      <td>4</td>\n",
       "      <td>2</td>\n",
       "      <td>4</td>\n",
       "      <td>0</td>\n",
       "      <td>1</td>\n",
       "      <td>2</td>\n",
       "      <td>2</td>\n",
       "      <td>0</td>\n",
       "      <td>15.511708</td>\n",
       "    </tr>\n",
       "    <tr>\n",
       "      <th>5</th>\n",
       "      <td>1</td>\n",
       "      <td>0</td>\n",
       "      <td>0</td>\n",
       "      <td>2</td>\n",
       "      <td>3</td>\n",
       "      <td>0</td>\n",
       "      <td>1</td>\n",
       "      <td>2</td>\n",
       "      <td>0</td>\n",
       "      <td>0</td>\n",
       "      <td>15.511708</td>\n",
       "    </tr>\n",
       "    <tr>\n",
       "      <th>6</th>\n",
       "      <td>1</td>\n",
       "      <td>1</td>\n",
       "      <td>0</td>\n",
       "      <td>0</td>\n",
       "      <td>3</td>\n",
       "      <td>0</td>\n",
       "      <td>3</td>\n",
       "      <td>3</td>\n",
       "      <td>2</td>\n",
       "      <td>0</td>\n",
       "      <td>15.511708</td>\n",
       "    </tr>\n",
       "    <tr>\n",
       "      <th>7</th>\n",
       "      <td>0</td>\n",
       "      <td>0</td>\n",
       "      <td>0</td>\n",
       "      <td>2</td>\n",
       "      <td>2</td>\n",
       "      <td>1</td>\n",
       "      <td>1</td>\n",
       "      <td>3</td>\n",
       "      <td>1</td>\n",
       "      <td>0</td>\n",
       "      <td>15.511708</td>\n",
       "    </tr>\n",
       "    <tr>\n",
       "      <th>8</th>\n",
       "      <td>0</td>\n",
       "      <td>0</td>\n",
       "      <td>0</td>\n",
       "      <td>2</td>\n",
       "      <td>4</td>\n",
       "      <td>0</td>\n",
       "      <td>1</td>\n",
       "      <td>0</td>\n",
       "      <td>2</td>\n",
       "      <td>0</td>\n",
       "      <td>15.511708</td>\n",
       "    </tr>\n",
       "    <tr>\n",
       "      <th>...</th>\n",
       "      <td>...</td>\n",
       "      <td>...</td>\n",
       "      <td>...</td>\n",
       "      <td>...</td>\n",
       "      <td>...</td>\n",
       "      <td>...</td>\n",
       "      <td>...</td>\n",
       "      <td>...</td>\n",
       "      <td>...</td>\n",
       "      <td>...</td>\n",
       "      <td>...</td>\n",
       "    </tr>\n",
       "    <tr>\n",
       "      <th>62734</th>\n",
       "      <td>0</td>\n",
       "      <td>0</td>\n",
       "      <td>5</td>\n",
       "      <td>1</td>\n",
       "      <td>3</td>\n",
       "      <td>0</td>\n",
       "      <td>1</td>\n",
       "      <td>0</td>\n",
       "      <td>4</td>\n",
       "      <td>0</td>\n",
       "      <td>16.000000</td>\n",
       "    </tr>\n",
       "    <tr>\n",
       "      <th>62735</th>\n",
       "      <td>0</td>\n",
       "      <td>0</td>\n",
       "      <td>5</td>\n",
       "      <td>0</td>\n",
       "      <td>3</td>\n",
       "      <td>1</td>\n",
       "      <td>3</td>\n",
       "      <td>3</td>\n",
       "      <td>4</td>\n",
       "      <td>0</td>\n",
       "      <td>16.000000</td>\n",
       "    </tr>\n",
       "    <tr>\n",
       "      <th>62736</th>\n",
       "      <td>0</td>\n",
       "      <td>0</td>\n",
       "      <td>5</td>\n",
       "      <td>2</td>\n",
       "      <td>3</td>\n",
       "      <td>0</td>\n",
       "      <td>2</td>\n",
       "      <td>3</td>\n",
       "      <td>3</td>\n",
       "      <td>0</td>\n",
       "      <td>16.000000</td>\n",
       "    </tr>\n",
       "    <tr>\n",
       "      <th>62737</th>\n",
       "      <td>0</td>\n",
       "      <td>0</td>\n",
       "      <td>5</td>\n",
       "      <td>3</td>\n",
       "      <td>3</td>\n",
       "      <td>0</td>\n",
       "      <td>1</td>\n",
       "      <td>3</td>\n",
       "      <td>4</td>\n",
       "      <td>0</td>\n",
       "      <td>16.000000</td>\n",
       "    </tr>\n",
       "    <tr>\n",
       "      <th>62738</th>\n",
       "      <td>0</td>\n",
       "      <td>0</td>\n",
       "      <td>5</td>\n",
       "      <td>2</td>\n",
       "      <td>3</td>\n",
       "      <td>1</td>\n",
       "      <td>3</td>\n",
       "      <td>0</td>\n",
       "      <td>0</td>\n",
       "      <td>0</td>\n",
       "      <td>16.000000</td>\n",
       "    </tr>\n",
       "  </tbody>\n",
       "</table>\n",
       "<p>61731 rows × 11 columns</p>\n",
       "</div>"
      ],
      "text/plain": [
       "       new_location_name  new_home_language  new_hh_occupation  new_hh_size  \\\n",
       "4                      1                  1                  4            2   \n",
       "5                      1                  0                  0            2   \n",
       "6                      1                  1                  0            0   \n",
       "7                      0                  0                  0            2   \n",
       "8                      0                  0                  0            2   \n",
       "...                  ...                ...                ...          ...   \n",
       "62734                  0                  0                  5            1   \n",
       "62735                  0                  0                  5            0   \n",
       "62736                  0                  0                  5            2   \n",
       "62737                  0                  0                  5            3   \n",
       "62738                  0                  0                  5            2   \n",
       "\n",
       "       new_school_distanceKm  new_gender  new_grade  new_meansToSchool  \\\n",
       "4                          4           0          1                  2   \n",
       "5                          3           0          1                  2   \n",
       "6                          3           0          3                  3   \n",
       "7                          2           1          1                  3   \n",
       "8                          4           0          1                  0   \n",
       "...                      ...         ...        ...                ...   \n",
       "62734                      3           0          1                  0   \n",
       "62735                      3           1          3                  3   \n",
       "62736                      3           0          2                  3   \n",
       "62737                      3           0          1                  3   \n",
       "62738                      3           1          3                  0   \n",
       "\n",
       "       new_hh_children  new_dropout    new_age  \n",
       "4                    2            0  15.511708  \n",
       "5                    0            0  15.511708  \n",
       "6                    2            0  15.511708  \n",
       "7                    1            0  15.511708  \n",
       "8                    2            0  15.511708  \n",
       "...                ...          ...        ...  \n",
       "62734                4            0  16.000000  \n",
       "62735                4            0  16.000000  \n",
       "62736                3            0  16.000000  \n",
       "62737                4            0  16.000000  \n",
       "62738                0            0  16.000000  \n",
       "\n",
       "[61731 rows x 11 columns]"
      ]
     },
     "execution_count": 80,
     "metadata": {},
     "output_type": "execute_result"
    }
   ],
   "source": [
    "df.drop(['location_name','home_language','hh_occupation','hh_size','school_distanceKm','gender','grade','meansToSchool','hh_children','dropout','age'],axis='columns',inplace=True)\n",
    "df"
   ]
  },
  {
   "cell_type": "code",
   "execution_count": 81,
   "id": "45b1784c",
   "metadata": {},
   "outputs": [],
   "source": [
    "features=df.drop('new_dropout',axis='columns')"
   ]
  },
  {
   "cell_type": "code",
   "execution_count": 82,
   "id": "fd9df5e3",
   "metadata": {},
   "outputs": [],
   "source": [
    "target=df['new_dropout']"
   ]
  },
  {
   "cell_type": "code",
   "execution_count": 83,
   "id": "488d779f",
   "metadata": {},
   "outputs": [
    {
     "data": {
      "text/html": [
       "<div>\n",
       "<style scoped>\n",
       "    .dataframe tbody tr th:only-of-type {\n",
       "        vertical-align: middle;\n",
       "    }\n",
       "\n",
       "    .dataframe tbody tr th {\n",
       "        vertical-align: top;\n",
       "    }\n",
       "\n",
       "    .dataframe thead th {\n",
       "        text-align: right;\n",
       "    }\n",
       "</style>\n",
       "<table border=\"1\" class=\"dataframe\">\n",
       "  <thead>\n",
       "    <tr style=\"text-align: right;\">\n",
       "      <th></th>\n",
       "      <th>new_location_name</th>\n",
       "      <th>new_home_language</th>\n",
       "      <th>new_hh_occupation</th>\n",
       "      <th>new_hh_size</th>\n",
       "      <th>new_school_distanceKm</th>\n",
       "      <th>new_gender</th>\n",
       "      <th>new_grade</th>\n",
       "      <th>new_meansToSchool</th>\n",
       "      <th>new_hh_children</th>\n",
       "      <th>new_age</th>\n",
       "    </tr>\n",
       "  </thead>\n",
       "  <tbody>\n",
       "    <tr>\n",
       "      <th>4</th>\n",
       "      <td>1</td>\n",
       "      <td>1</td>\n",
       "      <td>4</td>\n",
       "      <td>2</td>\n",
       "      <td>4</td>\n",
       "      <td>0</td>\n",
       "      <td>1</td>\n",
       "      <td>2</td>\n",
       "      <td>2</td>\n",
       "      <td>15.511708</td>\n",
       "    </tr>\n",
       "    <tr>\n",
       "      <th>5</th>\n",
       "      <td>1</td>\n",
       "      <td>0</td>\n",
       "      <td>0</td>\n",
       "      <td>2</td>\n",
       "      <td>3</td>\n",
       "      <td>0</td>\n",
       "      <td>1</td>\n",
       "      <td>2</td>\n",
       "      <td>0</td>\n",
       "      <td>15.511708</td>\n",
       "    </tr>\n",
       "    <tr>\n",
       "      <th>6</th>\n",
       "      <td>1</td>\n",
       "      <td>1</td>\n",
       "      <td>0</td>\n",
       "      <td>0</td>\n",
       "      <td>3</td>\n",
       "      <td>0</td>\n",
       "      <td>3</td>\n",
       "      <td>3</td>\n",
       "      <td>2</td>\n",
       "      <td>15.511708</td>\n",
       "    </tr>\n",
       "    <tr>\n",
       "      <th>7</th>\n",
       "      <td>0</td>\n",
       "      <td>0</td>\n",
       "      <td>0</td>\n",
       "      <td>2</td>\n",
       "      <td>2</td>\n",
       "      <td>1</td>\n",
       "      <td>1</td>\n",
       "      <td>3</td>\n",
       "      <td>1</td>\n",
       "      <td>15.511708</td>\n",
       "    </tr>\n",
       "    <tr>\n",
       "      <th>8</th>\n",
       "      <td>0</td>\n",
       "      <td>0</td>\n",
       "      <td>0</td>\n",
       "      <td>2</td>\n",
       "      <td>4</td>\n",
       "      <td>0</td>\n",
       "      <td>1</td>\n",
       "      <td>0</td>\n",
       "      <td>2</td>\n",
       "      <td>15.511708</td>\n",
       "    </tr>\n",
       "    <tr>\n",
       "      <th>...</th>\n",
       "      <td>...</td>\n",
       "      <td>...</td>\n",
       "      <td>...</td>\n",
       "      <td>...</td>\n",
       "      <td>...</td>\n",
       "      <td>...</td>\n",
       "      <td>...</td>\n",
       "      <td>...</td>\n",
       "      <td>...</td>\n",
       "      <td>...</td>\n",
       "    </tr>\n",
       "    <tr>\n",
       "      <th>62734</th>\n",
       "      <td>0</td>\n",
       "      <td>0</td>\n",
       "      <td>5</td>\n",
       "      <td>1</td>\n",
       "      <td>3</td>\n",
       "      <td>0</td>\n",
       "      <td>1</td>\n",
       "      <td>0</td>\n",
       "      <td>4</td>\n",
       "      <td>16.000000</td>\n",
       "    </tr>\n",
       "    <tr>\n",
       "      <th>62735</th>\n",
       "      <td>0</td>\n",
       "      <td>0</td>\n",
       "      <td>5</td>\n",
       "      <td>0</td>\n",
       "      <td>3</td>\n",
       "      <td>1</td>\n",
       "      <td>3</td>\n",
       "      <td>3</td>\n",
       "      <td>4</td>\n",
       "      <td>16.000000</td>\n",
       "    </tr>\n",
       "    <tr>\n",
       "      <th>62736</th>\n",
       "      <td>0</td>\n",
       "      <td>0</td>\n",
       "      <td>5</td>\n",
       "      <td>2</td>\n",
       "      <td>3</td>\n",
       "      <td>0</td>\n",
       "      <td>2</td>\n",
       "      <td>3</td>\n",
       "      <td>3</td>\n",
       "      <td>16.000000</td>\n",
       "    </tr>\n",
       "    <tr>\n",
       "      <th>62737</th>\n",
       "      <td>0</td>\n",
       "      <td>0</td>\n",
       "      <td>5</td>\n",
       "      <td>3</td>\n",
       "      <td>3</td>\n",
       "      <td>0</td>\n",
       "      <td>1</td>\n",
       "      <td>3</td>\n",
       "      <td>4</td>\n",
       "      <td>16.000000</td>\n",
       "    </tr>\n",
       "    <tr>\n",
       "      <th>62738</th>\n",
       "      <td>0</td>\n",
       "      <td>0</td>\n",
       "      <td>5</td>\n",
       "      <td>2</td>\n",
       "      <td>3</td>\n",
       "      <td>1</td>\n",
       "      <td>3</td>\n",
       "      <td>0</td>\n",
       "      <td>0</td>\n",
       "      <td>16.000000</td>\n",
       "    </tr>\n",
       "  </tbody>\n",
       "</table>\n",
       "<p>61731 rows × 10 columns</p>\n",
       "</div>"
      ],
      "text/plain": [
       "       new_location_name  new_home_language  new_hh_occupation  new_hh_size  \\\n",
       "4                      1                  1                  4            2   \n",
       "5                      1                  0                  0            2   \n",
       "6                      1                  1                  0            0   \n",
       "7                      0                  0                  0            2   \n",
       "8                      0                  0                  0            2   \n",
       "...                  ...                ...                ...          ...   \n",
       "62734                  0                  0                  5            1   \n",
       "62735                  0                  0                  5            0   \n",
       "62736                  0                  0                  5            2   \n",
       "62737                  0                  0                  5            3   \n",
       "62738                  0                  0                  5            2   \n",
       "\n",
       "       new_school_distanceKm  new_gender  new_grade  new_meansToSchool  \\\n",
       "4                          4           0          1                  2   \n",
       "5                          3           0          1                  2   \n",
       "6                          3           0          3                  3   \n",
       "7                          2           1          1                  3   \n",
       "8                          4           0          1                  0   \n",
       "...                      ...         ...        ...                ...   \n",
       "62734                      3           0          1                  0   \n",
       "62735                      3           1          3                  3   \n",
       "62736                      3           0          2                  3   \n",
       "62737                      3           0          1                  3   \n",
       "62738                      3           1          3                  0   \n",
       "\n",
       "       new_hh_children    new_age  \n",
       "4                    2  15.511708  \n",
       "5                    0  15.511708  \n",
       "6                    2  15.511708  \n",
       "7                    1  15.511708  \n",
       "8                    2  15.511708  \n",
       "...                ...        ...  \n",
       "62734                4  16.000000  \n",
       "62735                4  16.000000  \n",
       "62736                3  16.000000  \n",
       "62737                4  16.000000  \n",
       "62738                0  16.000000  \n",
       "\n",
       "[61731 rows x 10 columns]"
      ]
     },
     "execution_count": 83,
     "metadata": {},
     "output_type": "execute_result"
    }
   ],
   "source": [
    "features"
   ]
  },
  {
   "cell_type": "code",
   "execution_count": 84,
   "id": "914706d5",
   "metadata": {},
   "outputs": [
    {
     "data": {
      "text/plain": [
       "4        0\n",
       "5        0\n",
       "6        0\n",
       "7        0\n",
       "8        0\n",
       "        ..\n",
       "62734    0\n",
       "62735    0\n",
       "62736    0\n",
       "62737    0\n",
       "62738    0\n",
       "Name: new_dropout, Length: 61731, dtype: int32"
      ]
     },
     "execution_count": 84,
     "metadata": {},
     "output_type": "execute_result"
    }
   ],
   "source": [
    "target"
   ]
  },
  {
   "cell_type": "code",
   "execution_count": 85,
   "id": "56114d7b",
   "metadata": {},
   "outputs": [],
   "source": [
    "from sklearn.model_selection import train_test_split\n",
    "xtrain,xtest,ytrain,ytest=train_test_split(features,target,test_size=0.2)"
   ]
  },
  {
   "cell_type": "code",
   "execution_count": 86,
   "id": "006b4112",
   "metadata": {},
   "outputs": [
    {
     "data": {
      "text/html": [
       "<style>#sk-container-id-1 {color: black;}#sk-container-id-1 pre{padding: 0;}#sk-container-id-1 div.sk-toggleable {background-color: white;}#sk-container-id-1 label.sk-toggleable__label {cursor: pointer;display: block;width: 100%;margin-bottom: 0;padding: 0.3em;box-sizing: border-box;text-align: center;}#sk-container-id-1 label.sk-toggleable__label-arrow:before {content: \"▸\";float: left;margin-right: 0.25em;color: #696969;}#sk-container-id-1 label.sk-toggleable__label-arrow:hover:before {color: black;}#sk-container-id-1 div.sk-estimator:hover label.sk-toggleable__label-arrow:before {color: black;}#sk-container-id-1 div.sk-toggleable__content {max-height: 0;max-width: 0;overflow: hidden;text-align: left;background-color: #f0f8ff;}#sk-container-id-1 div.sk-toggleable__content pre {margin: 0.2em;color: black;border-radius: 0.25em;background-color: #f0f8ff;}#sk-container-id-1 input.sk-toggleable__control:checked~div.sk-toggleable__content {max-height: 200px;max-width: 100%;overflow: auto;}#sk-container-id-1 input.sk-toggleable__control:checked~label.sk-toggleable__label-arrow:before {content: \"▾\";}#sk-container-id-1 div.sk-estimator input.sk-toggleable__control:checked~label.sk-toggleable__label {background-color: #d4ebff;}#sk-container-id-1 div.sk-label input.sk-toggleable__control:checked~label.sk-toggleable__label {background-color: #d4ebff;}#sk-container-id-1 input.sk-hidden--visually {border: 0;clip: rect(1px 1px 1px 1px);clip: rect(1px, 1px, 1px, 1px);height: 1px;margin: -1px;overflow: hidden;padding: 0;position: absolute;width: 1px;}#sk-container-id-1 div.sk-estimator {font-family: monospace;background-color: #f0f8ff;border: 1px dotted black;border-radius: 0.25em;box-sizing: border-box;margin-bottom: 0.5em;}#sk-container-id-1 div.sk-estimator:hover {background-color: #d4ebff;}#sk-container-id-1 div.sk-parallel-item::after {content: \"\";width: 100%;border-bottom: 1px solid gray;flex-grow: 1;}#sk-container-id-1 div.sk-label:hover label.sk-toggleable__label {background-color: #d4ebff;}#sk-container-id-1 div.sk-serial::before {content: \"\";position: absolute;border-left: 1px solid gray;box-sizing: border-box;top: 0;bottom: 0;left: 50%;z-index: 0;}#sk-container-id-1 div.sk-serial {display: flex;flex-direction: column;align-items: center;background-color: white;padding-right: 0.2em;padding-left: 0.2em;position: relative;}#sk-container-id-1 div.sk-item {position: relative;z-index: 1;}#sk-container-id-1 div.sk-parallel {display: flex;align-items: stretch;justify-content: center;background-color: white;position: relative;}#sk-container-id-1 div.sk-item::before, #sk-container-id-1 div.sk-parallel-item::before {content: \"\";position: absolute;border-left: 1px solid gray;box-sizing: border-box;top: 0;bottom: 0;left: 50%;z-index: -1;}#sk-container-id-1 div.sk-parallel-item {display: flex;flex-direction: column;z-index: 1;position: relative;background-color: white;}#sk-container-id-1 div.sk-parallel-item:first-child::after {align-self: flex-end;width: 50%;}#sk-container-id-1 div.sk-parallel-item:last-child::after {align-self: flex-start;width: 50%;}#sk-container-id-1 div.sk-parallel-item:only-child::after {width: 0;}#sk-container-id-1 div.sk-dashed-wrapped {border: 1px dashed gray;margin: 0 0.4em 0.5em 0.4em;box-sizing: border-box;padding-bottom: 0.4em;background-color: white;}#sk-container-id-1 div.sk-label label {font-family: monospace;font-weight: bold;display: inline-block;line-height: 1.2em;}#sk-container-id-1 div.sk-label-container {text-align: center;}#sk-container-id-1 div.sk-container {/* jupyter's `normalize.less` sets `[hidden] { display: none; }` but bootstrap.min.css set `[hidden] { display: none !important; }` so we also need the `!important` here to be able to override the default hidden behavior on the sphinx rendered scikit-learn.org. See: https://github.com/scikit-learn/scikit-learn/issues/21755 */display: inline-block !important;position: relative;}#sk-container-id-1 div.sk-text-repr-fallback {display: none;}</style><div id=\"sk-container-id-1\" class=\"sk-top-container\"><div class=\"sk-text-repr-fallback\"><pre>DecisionTreeClassifier()</pre><b>In a Jupyter environment, please rerun this cell to show the HTML representation or trust the notebook. <br />On GitHub, the HTML representation is unable to render, please try loading this page with nbviewer.org.</b></div><div class=\"sk-container\" hidden><div class=\"sk-item\"><div class=\"sk-estimator sk-toggleable\"><input class=\"sk-toggleable__control sk-hidden--visually\" id=\"sk-estimator-id-1\" type=\"checkbox\" checked><label for=\"sk-estimator-id-1\" class=\"sk-toggleable__label sk-toggleable__label-arrow\">DecisionTreeClassifier</label><div class=\"sk-toggleable__content\"><pre>DecisionTreeClassifier()</pre></div></div></div></div></div>"
      ],
      "text/plain": [
       "DecisionTreeClassifier()"
      ]
     },
     "execution_count": 86,
     "metadata": {},
     "output_type": "execute_result"
    }
   ],
   "source": [
    "from sklearn import tree\n",
    "model=tree.DecisionTreeClassifier()\n",
    "model.fit(xtrain,ytrain)"
   ]
  },
  {
   "cell_type": "code",
   "execution_count": 87,
   "id": "68fe5d51",
   "metadata": {},
   "outputs": [
    {
     "data": {
      "text/plain": [
       "array([0])"
      ]
     },
     "execution_count": 87,
     "metadata": {},
     "output_type": "execute_result"
    }
   ],
   "source": [
    "model.predict([[1,0,0,2,3,0,1,2,0,15.511708]])"
   ]
  },
  {
   "cell_type": "code",
   "execution_count": 88,
   "id": "90463a63",
   "metadata": {},
   "outputs": [],
   "source": [
    "from sklearn.ensemble import RandomForestClassifier"
   ]
  },
  {
   "cell_type": "code",
   "execution_count": 89,
   "id": "90adbb0c",
   "metadata": {},
   "outputs": [
    {
     "data": {
      "text/html": [
       "<style>#sk-container-id-2 {color: black;}#sk-container-id-2 pre{padding: 0;}#sk-container-id-2 div.sk-toggleable {background-color: white;}#sk-container-id-2 label.sk-toggleable__label {cursor: pointer;display: block;width: 100%;margin-bottom: 0;padding: 0.3em;box-sizing: border-box;text-align: center;}#sk-container-id-2 label.sk-toggleable__label-arrow:before {content: \"▸\";float: left;margin-right: 0.25em;color: #696969;}#sk-container-id-2 label.sk-toggleable__label-arrow:hover:before {color: black;}#sk-container-id-2 div.sk-estimator:hover label.sk-toggleable__label-arrow:before {color: black;}#sk-container-id-2 div.sk-toggleable__content {max-height: 0;max-width: 0;overflow: hidden;text-align: left;background-color: #f0f8ff;}#sk-container-id-2 div.sk-toggleable__content pre {margin: 0.2em;color: black;border-radius: 0.25em;background-color: #f0f8ff;}#sk-container-id-2 input.sk-toggleable__control:checked~div.sk-toggleable__content {max-height: 200px;max-width: 100%;overflow: auto;}#sk-container-id-2 input.sk-toggleable__control:checked~label.sk-toggleable__label-arrow:before {content: \"▾\";}#sk-container-id-2 div.sk-estimator input.sk-toggleable__control:checked~label.sk-toggleable__label {background-color: #d4ebff;}#sk-container-id-2 div.sk-label input.sk-toggleable__control:checked~label.sk-toggleable__label {background-color: #d4ebff;}#sk-container-id-2 input.sk-hidden--visually {border: 0;clip: rect(1px 1px 1px 1px);clip: rect(1px, 1px, 1px, 1px);height: 1px;margin: -1px;overflow: hidden;padding: 0;position: absolute;width: 1px;}#sk-container-id-2 div.sk-estimator {font-family: monospace;background-color: #f0f8ff;border: 1px dotted black;border-radius: 0.25em;box-sizing: border-box;margin-bottom: 0.5em;}#sk-container-id-2 div.sk-estimator:hover {background-color: #d4ebff;}#sk-container-id-2 div.sk-parallel-item::after {content: \"\";width: 100%;border-bottom: 1px solid gray;flex-grow: 1;}#sk-container-id-2 div.sk-label:hover label.sk-toggleable__label {background-color: #d4ebff;}#sk-container-id-2 div.sk-serial::before {content: \"\";position: absolute;border-left: 1px solid gray;box-sizing: border-box;top: 0;bottom: 0;left: 50%;z-index: 0;}#sk-container-id-2 div.sk-serial {display: flex;flex-direction: column;align-items: center;background-color: white;padding-right: 0.2em;padding-left: 0.2em;position: relative;}#sk-container-id-2 div.sk-item {position: relative;z-index: 1;}#sk-container-id-2 div.sk-parallel {display: flex;align-items: stretch;justify-content: center;background-color: white;position: relative;}#sk-container-id-2 div.sk-item::before, #sk-container-id-2 div.sk-parallel-item::before {content: \"\";position: absolute;border-left: 1px solid gray;box-sizing: border-box;top: 0;bottom: 0;left: 50%;z-index: -1;}#sk-container-id-2 div.sk-parallel-item {display: flex;flex-direction: column;z-index: 1;position: relative;background-color: white;}#sk-container-id-2 div.sk-parallel-item:first-child::after {align-self: flex-end;width: 50%;}#sk-container-id-2 div.sk-parallel-item:last-child::after {align-self: flex-start;width: 50%;}#sk-container-id-2 div.sk-parallel-item:only-child::after {width: 0;}#sk-container-id-2 div.sk-dashed-wrapped {border: 1px dashed gray;margin: 0 0.4em 0.5em 0.4em;box-sizing: border-box;padding-bottom: 0.4em;background-color: white;}#sk-container-id-2 div.sk-label label {font-family: monospace;font-weight: bold;display: inline-block;line-height: 1.2em;}#sk-container-id-2 div.sk-label-container {text-align: center;}#sk-container-id-2 div.sk-container {/* jupyter's `normalize.less` sets `[hidden] { display: none; }` but bootstrap.min.css set `[hidden] { display: none !important; }` so we also need the `!important` here to be able to override the default hidden behavior on the sphinx rendered scikit-learn.org. See: https://github.com/scikit-learn/scikit-learn/issues/21755 */display: inline-block !important;position: relative;}#sk-container-id-2 div.sk-text-repr-fallback {display: none;}</style><div id=\"sk-container-id-2\" class=\"sk-top-container\"><div class=\"sk-text-repr-fallback\"><pre>RandomForestClassifier(n_estimators=10)</pre><b>In a Jupyter environment, please rerun this cell to show the HTML representation or trust the notebook. <br />On GitHub, the HTML representation is unable to render, please try loading this page with nbviewer.org.</b></div><div class=\"sk-container\" hidden><div class=\"sk-item\"><div class=\"sk-estimator sk-toggleable\"><input class=\"sk-toggleable__control sk-hidden--visually\" id=\"sk-estimator-id-2\" type=\"checkbox\" checked><label for=\"sk-estimator-id-2\" class=\"sk-toggleable__label sk-toggleable__label-arrow\">RandomForestClassifier</label><div class=\"sk-toggleable__content\"><pre>RandomForestClassifier(n_estimators=10)</pre></div></div></div></div></div>"
      ],
      "text/plain": [
       "RandomForestClassifier(n_estimators=10)"
      ]
     },
     "execution_count": 89,
     "metadata": {},
     "output_type": "execute_result"
    }
   ],
   "source": [
    "random_model=RandomForestClassifier(n_estimators=10)\n",
    "random_model.fit(xtrain,ytrain)"
   ]
  },
  {
   "cell_type": "code",
   "execution_count": 90,
   "id": "e2be9cdb",
   "metadata": {},
   "outputs": [
    {
     "data": {
      "text/plain": [
       "0.9466267109419292"
      ]
     },
     "execution_count": 90,
     "metadata": {},
     "output_type": "execute_result"
    }
   ],
   "source": [
    "random_model.score(xtest,ytest)"
   ]
  },
  {
   "cell_type": "code",
   "execution_count": 91,
   "id": "7d98e873",
   "metadata": {},
   "outputs": [
    {
     "data": {
      "text/plain": [
       "array([0])"
      ]
     },
     "execution_count": 91,
     "metadata": {},
     "output_type": "execute_result"
    }
   ],
   "source": [
    "random_model.predict([[1,0,0,2,3,0,1,2,0,15.511708]])"
   ]
  },
  {
   "cell_type": "code",
   "execution_count": null,
   "id": "0f0391f2",
   "metadata": {},
   "outputs": [],
   "source": []
  }
 ],
 "metadata": {
  "kernelspec": {
   "display_name": "Python 3 (ipykernel)",
   "language": "python",
   "name": "python3"
  },
  "language_info": {
   "codemirror_mode": {
    "name": "ipython",
    "version": 3
   },
   "file_extension": ".py",
   "mimetype": "text/x-python",
   "name": "python",
   "nbconvert_exporter": "python",
   "pygments_lexer": "ipython3",
   "version": "3.11.5"
  }
 },
 "nbformat": 4,
 "nbformat_minor": 5
}
